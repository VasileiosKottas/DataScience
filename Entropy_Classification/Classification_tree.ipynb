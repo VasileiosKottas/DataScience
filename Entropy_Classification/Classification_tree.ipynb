{
 "cells": [
  {
   "cell_type": "markdown",
   "id": "a7cf9887-6536-4da5-a305-a528869e61f2",
   "metadata": {},
   "source": [
    "# Categorization model of a Classification tree"
   ]
  },
  {
   "cell_type": "code",
   "execution_count": 1,
   "id": "9e34a13d-e67d-4dc7-99f4-af60fc18fe96",
   "metadata": {},
   "outputs": [],
   "source": [
    "import numpy as np\n",
    "import pandas as pd\n",
    "import matplotlib.pyplot as plt\n",
    "import sympy as sym\n",
    "from sklearn.tree import DecisionTreeClassifier\n",
    "from sklearn.tree import plot_tree\n",
    "from sklearn.model_selection import train_test_split\n",
    "from sklearn.model_selection import cross_val_score\n",
    "from sklearn.metrics import confusion_matrix\n",
    "from sklearn.metrics import plot_confusion_matrix"
   ]
  },
  {
   "cell_type": "markdown",
   "id": "7e38d49a-22ed-4b27-acc2-fe1b16a58900",
   "metadata": {},
   "source": [
    "# Load Data\n",
    "The data are about a Heart Attack and we took them from: https://archive.ics.uci.edu/ml/index.php (uci machine learning repository)"
   ]
  },
  {
   "cell_type": "code",
   "execution_count": 2,
   "id": "072afeb6-bc45-43cf-af0a-cc1ba138b274",
   "metadata": {},
   "outputs": [
    {
     "data": {
      "text/html": [
       "<div>\n",
       "<style scoped>\n",
       "    .dataframe tbody tr th:only-of-type {\n",
       "        vertical-align: middle;\n",
       "    }\n",
       "\n",
       "    .dataframe tbody tr th {\n",
       "        vertical-align: top;\n",
       "    }\n",
       "\n",
       "    .dataframe thead th {\n",
       "        text-align: right;\n",
       "    }\n",
       "</style>\n",
       "<table border=\"1\" class=\"dataframe\">\n",
       "  <thead>\n",
       "    <tr style=\"text-align: right;\">\n",
       "      <th></th>\n",
       "      <th>0</th>\n",
       "      <th>1</th>\n",
       "      <th>2</th>\n",
       "      <th>3</th>\n",
       "      <th>4</th>\n",
       "      <th>5</th>\n",
       "      <th>6</th>\n",
       "      <th>7</th>\n",
       "      <th>8</th>\n",
       "      <th>9</th>\n",
       "      <th>10</th>\n",
       "      <th>11</th>\n",
       "      <th>12</th>\n",
       "      <th>13</th>\n",
       "    </tr>\n",
       "  </thead>\n",
       "  <tbody>\n",
       "    <tr>\n",
       "      <th>0</th>\n",
       "      <td>63.0</td>\n",
       "      <td>1.0</td>\n",
       "      <td>1.0</td>\n",
       "      <td>145.0</td>\n",
       "      <td>233.0</td>\n",
       "      <td>1.0</td>\n",
       "      <td>2.0</td>\n",
       "      <td>150.0</td>\n",
       "      <td>0.0</td>\n",
       "      <td>2.3</td>\n",
       "      <td>3.0</td>\n",
       "      <td>0.0</td>\n",
       "      <td>6.0</td>\n",
       "      <td>0</td>\n",
       "    </tr>\n",
       "    <tr>\n",
       "      <th>1</th>\n",
       "      <td>67.0</td>\n",
       "      <td>1.0</td>\n",
       "      <td>4.0</td>\n",
       "      <td>160.0</td>\n",
       "      <td>286.0</td>\n",
       "      <td>0.0</td>\n",
       "      <td>2.0</td>\n",
       "      <td>108.0</td>\n",
       "      <td>1.0</td>\n",
       "      <td>1.5</td>\n",
       "      <td>2.0</td>\n",
       "      <td>3.0</td>\n",
       "      <td>3.0</td>\n",
       "      <td>2</td>\n",
       "    </tr>\n",
       "    <tr>\n",
       "      <th>2</th>\n",
       "      <td>67.0</td>\n",
       "      <td>1.0</td>\n",
       "      <td>4.0</td>\n",
       "      <td>120.0</td>\n",
       "      <td>229.0</td>\n",
       "      <td>0.0</td>\n",
       "      <td>2.0</td>\n",
       "      <td>129.0</td>\n",
       "      <td>1.0</td>\n",
       "      <td>2.6</td>\n",
       "      <td>2.0</td>\n",
       "      <td>2.0</td>\n",
       "      <td>7.0</td>\n",
       "      <td>1</td>\n",
       "    </tr>\n",
       "    <tr>\n",
       "      <th>3</th>\n",
       "      <td>37.0</td>\n",
       "      <td>1.0</td>\n",
       "      <td>3.0</td>\n",
       "      <td>130.0</td>\n",
       "      <td>250.0</td>\n",
       "      <td>0.0</td>\n",
       "      <td>0.0</td>\n",
       "      <td>187.0</td>\n",
       "      <td>0.0</td>\n",
       "      <td>3.5</td>\n",
       "      <td>3.0</td>\n",
       "      <td>0.0</td>\n",
       "      <td>3.0</td>\n",
       "      <td>0</td>\n",
       "    </tr>\n",
       "    <tr>\n",
       "      <th>4</th>\n",
       "      <td>41.0</td>\n",
       "      <td>0.0</td>\n",
       "      <td>2.0</td>\n",
       "      <td>130.0</td>\n",
       "      <td>204.0</td>\n",
       "      <td>0.0</td>\n",
       "      <td>2.0</td>\n",
       "      <td>172.0</td>\n",
       "      <td>0.0</td>\n",
       "      <td>1.4</td>\n",
       "      <td>1.0</td>\n",
       "      <td>0.0</td>\n",
       "      <td>3.0</td>\n",
       "      <td>0</td>\n",
       "    </tr>\n",
       "  </tbody>\n",
       "</table>\n",
       "</div>"
      ],
      "text/plain": [
       "     0    1    2      3      4    5    6      7    8    9    10   11   12  13\n",
       "0  63.0  1.0  1.0  145.0  233.0  1.0  2.0  150.0  0.0  2.3  3.0  0.0  6.0   0\n",
       "1  67.0  1.0  4.0  160.0  286.0  0.0  2.0  108.0  1.0  1.5  2.0  3.0  3.0   2\n",
       "2  67.0  1.0  4.0  120.0  229.0  0.0  2.0  129.0  1.0  2.6  2.0  2.0  7.0   1\n",
       "3  37.0  1.0  3.0  130.0  250.0  0.0  0.0  187.0  0.0  3.5  3.0  0.0  3.0   0\n",
       "4  41.0  0.0  2.0  130.0  204.0  0.0  2.0  172.0  0.0  1.4  1.0  0.0  3.0   0"
      ]
     },
     "execution_count": 2,
     "metadata": {},
     "output_type": "execute_result"
    }
   ],
   "source": [
    "df = pd.read_csv('processed.cleveland.data', header = None)\n",
    "df.head(5) # Shows the first 5 when we have default as an input"
   ]
  },
  {
   "cell_type": "markdown",
   "id": "c4e10820-829a-4e71-85b9-c6b04ae13e38",
   "metadata": {},
   "source": [
    "The data characteristics\n",
    " -  #0 (age)\n",
    " -  #1 (sex) (1 = male; 0 = female)\n",
    " -  #2 (cp) chest pain type\n",
    "    - Value 1: typical angina\n",
    "    - Value 2: atypical angina\n",
    "    - Value 3: non-anginal pain\n",
    "    - Value 4: asymptomatic\n",
    " -  #3 (trestbps) resting blood pressure (in mm Hg on admission to the hospital)\n",
    " -  #4 (chol)  serum cholestoral in mg/dl\n",
    " -  #5 (fbs) fasting blood sugar > 120 mg/dl (1 = true; 0 = false)\n",
    " -  #6 (restecg) resting electrocardiographic results\n",
    "    - Value 0: normal\n",
    "    - Value 1: having ST-T wave abnormality (T wave inversions and/or ST elevation or depression of > 0.05 mV)\n",
    "    - Value 2: showing probable or definite left ventricular hypertrophy by Estes' criteria\n",
    " -  #7 (thalach) maximum heart rate achieved\n",
    " -  #8 (exang) exercise induced angina (1 = yes; 0 = no)\n",
    " -  #9 (oldpeak) ST depression induced by exercise relative to rest\n",
    " -  #10 (slope) the slope of the peak exercise ST segment\n",
    "    - Value 1: upsloping\n",
    "    - Value 2: flat\n",
    "    - Value 3: downsloping\n",
    " -  #11 (ca) number of major vessels (0-3) colored by flourosopy\n",
    " -  #12 (thal) \n",
    "     - 3 = normal \n",
    "     - 6 = fixed defect\n",
    "     - 7 = reversable defect\n",
    " -  #13 (hd) (the predicted attribute) diagnosis of heart disease (angiographic disease status)\n",
    "    - Value 0: < 50% diameter narrowing\n",
    "    - Value 1: > 50% diameter narrowing\n",
    "    (in any major vessel: attributes 59 through 68 are vessels)"
   ]
  },
  {
   "cell_type": "code",
   "execution_count": 3,
   "id": "b1e4587d-50c7-4ea1-b7bf-90effb8795ad",
   "metadata": {},
   "outputs": [
    {
     "data": {
      "text/html": [
       "<div>\n",
       "<style scoped>\n",
       "    .dataframe tbody tr th:only-of-type {\n",
       "        vertical-align: middle;\n",
       "    }\n",
       "\n",
       "    .dataframe tbody tr th {\n",
       "        vertical-align: top;\n",
       "    }\n",
       "\n",
       "    .dataframe thead th {\n",
       "        text-align: right;\n",
       "    }\n",
       "</style>\n",
       "<table border=\"1\" class=\"dataframe\">\n",
       "  <thead>\n",
       "    <tr style=\"text-align: right;\">\n",
       "      <th></th>\n",
       "      <th>age</th>\n",
       "      <th>sex</th>\n",
       "      <th>cp</th>\n",
       "      <th>trestbps</th>\n",
       "      <th>chol</th>\n",
       "      <th>fbs</th>\n",
       "      <th>restecg</th>\n",
       "      <th>thalach</th>\n",
       "      <th>exang</th>\n",
       "      <th>oldpeak</th>\n",
       "      <th>slope</th>\n",
       "      <th>ca</th>\n",
       "      <th>thal</th>\n",
       "      <th>hd</th>\n",
       "    </tr>\n",
       "  </thead>\n",
       "  <tbody>\n",
       "    <tr>\n",
       "      <th>0</th>\n",
       "      <td>63.0</td>\n",
       "      <td>1.0</td>\n",
       "      <td>1.0</td>\n",
       "      <td>145.0</td>\n",
       "      <td>233.0</td>\n",
       "      <td>1.0</td>\n",
       "      <td>2.0</td>\n",
       "      <td>150.0</td>\n",
       "      <td>0.0</td>\n",
       "      <td>2.3</td>\n",
       "      <td>3.0</td>\n",
       "      <td>0.0</td>\n",
       "      <td>6.0</td>\n",
       "      <td>0</td>\n",
       "    </tr>\n",
       "    <tr>\n",
       "      <th>1</th>\n",
       "      <td>67.0</td>\n",
       "      <td>1.0</td>\n",
       "      <td>4.0</td>\n",
       "      <td>160.0</td>\n",
       "      <td>286.0</td>\n",
       "      <td>0.0</td>\n",
       "      <td>2.0</td>\n",
       "      <td>108.0</td>\n",
       "      <td>1.0</td>\n",
       "      <td>1.5</td>\n",
       "      <td>2.0</td>\n",
       "      <td>3.0</td>\n",
       "      <td>3.0</td>\n",
       "      <td>2</td>\n",
       "    </tr>\n",
       "    <tr>\n",
       "      <th>2</th>\n",
       "      <td>67.0</td>\n",
       "      <td>1.0</td>\n",
       "      <td>4.0</td>\n",
       "      <td>120.0</td>\n",
       "      <td>229.0</td>\n",
       "      <td>0.0</td>\n",
       "      <td>2.0</td>\n",
       "      <td>129.0</td>\n",
       "      <td>1.0</td>\n",
       "      <td>2.6</td>\n",
       "      <td>2.0</td>\n",
       "      <td>2.0</td>\n",
       "      <td>7.0</td>\n",
       "      <td>1</td>\n",
       "    </tr>\n",
       "    <tr>\n",
       "      <th>3</th>\n",
       "      <td>37.0</td>\n",
       "      <td>1.0</td>\n",
       "      <td>3.0</td>\n",
       "      <td>130.0</td>\n",
       "      <td>250.0</td>\n",
       "      <td>0.0</td>\n",
       "      <td>0.0</td>\n",
       "      <td>187.0</td>\n",
       "      <td>0.0</td>\n",
       "      <td>3.5</td>\n",
       "      <td>3.0</td>\n",
       "      <td>0.0</td>\n",
       "      <td>3.0</td>\n",
       "      <td>0</td>\n",
       "    </tr>\n",
       "    <tr>\n",
       "      <th>4</th>\n",
       "      <td>41.0</td>\n",
       "      <td>0.0</td>\n",
       "      <td>2.0</td>\n",
       "      <td>130.0</td>\n",
       "      <td>204.0</td>\n",
       "      <td>0.0</td>\n",
       "      <td>2.0</td>\n",
       "      <td>172.0</td>\n",
       "      <td>0.0</td>\n",
       "      <td>1.4</td>\n",
       "      <td>1.0</td>\n",
       "      <td>0.0</td>\n",
       "      <td>3.0</td>\n",
       "      <td>0</td>\n",
       "    </tr>\n",
       "    <tr>\n",
       "      <th>5</th>\n",
       "      <td>56.0</td>\n",
       "      <td>1.0</td>\n",
       "      <td>2.0</td>\n",
       "      <td>120.0</td>\n",
       "      <td>236.0</td>\n",
       "      <td>0.0</td>\n",
       "      <td>0.0</td>\n",
       "      <td>178.0</td>\n",
       "      <td>0.0</td>\n",
       "      <td>0.8</td>\n",
       "      <td>1.0</td>\n",
       "      <td>0.0</td>\n",
       "      <td>3.0</td>\n",
       "      <td>0</td>\n",
       "    </tr>\n",
       "    <tr>\n",
       "      <th>6</th>\n",
       "      <td>62.0</td>\n",
       "      <td>0.0</td>\n",
       "      <td>4.0</td>\n",
       "      <td>140.0</td>\n",
       "      <td>268.0</td>\n",
       "      <td>0.0</td>\n",
       "      <td>2.0</td>\n",
       "      <td>160.0</td>\n",
       "      <td>0.0</td>\n",
       "      <td>3.6</td>\n",
       "      <td>3.0</td>\n",
       "      <td>2.0</td>\n",
       "      <td>3.0</td>\n",
       "      <td>3</td>\n",
       "    </tr>\n",
       "    <tr>\n",
       "      <th>7</th>\n",
       "      <td>57.0</td>\n",
       "      <td>0.0</td>\n",
       "      <td>4.0</td>\n",
       "      <td>120.0</td>\n",
       "      <td>354.0</td>\n",
       "      <td>0.0</td>\n",
       "      <td>0.0</td>\n",
       "      <td>163.0</td>\n",
       "      <td>1.0</td>\n",
       "      <td>0.6</td>\n",
       "      <td>1.0</td>\n",
       "      <td>0.0</td>\n",
       "      <td>3.0</td>\n",
       "      <td>0</td>\n",
       "    </tr>\n",
       "    <tr>\n",
       "      <th>8</th>\n",
       "      <td>63.0</td>\n",
       "      <td>1.0</td>\n",
       "      <td>4.0</td>\n",
       "      <td>130.0</td>\n",
       "      <td>254.0</td>\n",
       "      <td>0.0</td>\n",
       "      <td>2.0</td>\n",
       "      <td>147.0</td>\n",
       "      <td>0.0</td>\n",
       "      <td>1.4</td>\n",
       "      <td>2.0</td>\n",
       "      <td>1.0</td>\n",
       "      <td>7.0</td>\n",
       "      <td>2</td>\n",
       "    </tr>\n",
       "    <tr>\n",
       "      <th>9</th>\n",
       "      <td>53.0</td>\n",
       "      <td>1.0</td>\n",
       "      <td>4.0</td>\n",
       "      <td>140.0</td>\n",
       "      <td>203.0</td>\n",
       "      <td>1.0</td>\n",
       "      <td>2.0</td>\n",
       "      <td>155.0</td>\n",
       "      <td>1.0</td>\n",
       "      <td>3.1</td>\n",
       "      <td>3.0</td>\n",
       "      <td>0.0</td>\n",
       "      <td>7.0</td>\n",
       "      <td>1</td>\n",
       "    </tr>\n",
       "    <tr>\n",
       "      <th>10</th>\n",
       "      <td>57.0</td>\n",
       "      <td>1.0</td>\n",
       "      <td>4.0</td>\n",
       "      <td>140.0</td>\n",
       "      <td>192.0</td>\n",
       "      <td>0.0</td>\n",
       "      <td>0.0</td>\n",
       "      <td>148.0</td>\n",
       "      <td>0.0</td>\n",
       "      <td>0.4</td>\n",
       "      <td>2.0</td>\n",
       "      <td>0.0</td>\n",
       "      <td>6.0</td>\n",
       "      <td>0</td>\n",
       "    </tr>\n",
       "    <tr>\n",
       "      <th>11</th>\n",
       "      <td>56.0</td>\n",
       "      <td>0.0</td>\n",
       "      <td>2.0</td>\n",
       "      <td>140.0</td>\n",
       "      <td>294.0</td>\n",
       "      <td>0.0</td>\n",
       "      <td>2.0</td>\n",
       "      <td>153.0</td>\n",
       "      <td>0.0</td>\n",
       "      <td>1.3</td>\n",
       "      <td>2.0</td>\n",
       "      <td>0.0</td>\n",
       "      <td>3.0</td>\n",
       "      <td>0</td>\n",
       "    </tr>\n",
       "  </tbody>\n",
       "</table>\n",
       "</div>"
      ],
      "text/plain": [
       "     age  sex   cp  trestbps   chol  fbs  restecg  thalach  exang  oldpeak  \\\n",
       "0   63.0  1.0  1.0     145.0  233.0  1.0      2.0    150.0    0.0      2.3   \n",
       "1   67.0  1.0  4.0     160.0  286.0  0.0      2.0    108.0    1.0      1.5   \n",
       "2   67.0  1.0  4.0     120.0  229.0  0.0      2.0    129.0    1.0      2.6   \n",
       "3   37.0  1.0  3.0     130.0  250.0  0.0      0.0    187.0    0.0      3.5   \n",
       "4   41.0  0.0  2.0     130.0  204.0  0.0      2.0    172.0    0.0      1.4   \n",
       "5   56.0  1.0  2.0     120.0  236.0  0.0      0.0    178.0    0.0      0.8   \n",
       "6   62.0  0.0  4.0     140.0  268.0  0.0      2.0    160.0    0.0      3.6   \n",
       "7   57.0  0.0  4.0     120.0  354.0  0.0      0.0    163.0    1.0      0.6   \n",
       "8   63.0  1.0  4.0     130.0  254.0  0.0      2.0    147.0    0.0      1.4   \n",
       "9   53.0  1.0  4.0     140.0  203.0  1.0      2.0    155.0    1.0      3.1   \n",
       "10  57.0  1.0  4.0     140.0  192.0  0.0      0.0    148.0    0.0      0.4   \n",
       "11  56.0  0.0  2.0     140.0  294.0  0.0      2.0    153.0    0.0      1.3   \n",
       "\n",
       "    slope   ca thal  hd  \n",
       "0     3.0  0.0  6.0   0  \n",
       "1     2.0  3.0  3.0   2  \n",
       "2     2.0  2.0  7.0   1  \n",
       "3     3.0  0.0  3.0   0  \n",
       "4     1.0  0.0  3.0   0  \n",
       "5     1.0  0.0  3.0   0  \n",
       "6     3.0  2.0  3.0   3  \n",
       "7     1.0  0.0  3.0   0  \n",
       "8     2.0  1.0  7.0   2  \n",
       "9     3.0  0.0  7.0   1  \n",
       "10    2.0  0.0  6.0   0  \n",
       "11    2.0  0.0  3.0   0  "
      ]
     },
     "execution_count": 3,
     "metadata": {},
     "output_type": "execute_result"
    }
   ],
   "source": [
    "# Data Characteristics\n",
    "df.columns = ['age',\n",
    "             'sex',\n",
    "             'cp',\n",
    "             'trestbps',\n",
    "             'chol',\n",
    "             'fbs',\n",
    "             'restecg',\n",
    "             'thalach',\n",
    "             'exang',\n",
    "             'oldpeak',\n",
    "             'slope',\n",
    "             'ca',\n",
    "             'thal',\n",
    "             'hd']\n",
    "df.head(12)"
   ]
  },
  {
   "cell_type": "markdown",
   "id": "c2e78626-609d-4b47-bf3e-954ac5a68898",
   "metadata": {},
   "source": [
    "# Missing data.\n",
    " 1) I remove every line that has null. If there are lots of lines with missing data, I see in whice column they are and if they are important for categorization or not.\n",
    " \n",
    " 2) Another method is about filling the spaces by replacing them with the average of the values."
   ]
  },
  {
   "cell_type": "code",
   "execution_count": 4,
   "id": "f3e051d1-955c-4aea-8dae-fe6ed193e264",
   "metadata": {
    "scrolled": true
   },
   "outputs": [
    {
     "data": {
      "text/plain": [
       "age         float64\n",
       "sex         float64\n",
       "cp          float64\n",
       "trestbps    float64\n",
       "chol        float64\n",
       "fbs         float64\n",
       "restecg     float64\n",
       "thalach     float64\n",
       "exang       float64\n",
       "oldpeak     float64\n",
       "slope       float64\n",
       "ca           object\n",
       "thal         object\n",
       "hd            int64\n",
       "dtype: object"
      ]
     },
     "execution_count": 4,
     "metadata": {},
     "output_type": "execute_result"
    }
   ],
   "source": [
    "# Type of Data\n",
    "df.dtypes"
   ]
  },
  {
   "cell_type": "code",
   "execution_count": 5,
   "id": "b9d83b64-f58d-4c25-8e35-79c251ee68fc",
   "metadata": {},
   "outputs": [
    {
     "name": "stdout",
     "output_type": "stream",
     "text": [
      "object ca\n",
      "['0.0' '3.0' '2.0' '1.0' '?']\n",
      "object thal\n",
      "['6.0' '3.0' '7.0' '?']\n"
     ]
    }
   ],
   "source": [
    "# Check the characteristics with the type object (ca, thal)\n",
    "print(\"object ca\")\n",
    "print(df['ca'].unique())\n",
    "print(\"object thal\")\n",
    "print(df['thal'].unique())"
   ]
  },
  {
   "cell_type": "markdown",
   "id": "f1ccb80d-ecba-4603-9a2b-ac28aee14f59",
   "metadata": {},
   "source": [
    "The \"?\" shows that there is a lack of data in the column, thats why its a type object. With that I found the missing data."
   ]
  },
  {
   "cell_type": "code",
   "execution_count": 6,
   "id": "7b57b270-b661-42b8-b20d-78d49d54b55d",
   "metadata": {},
   "outputs": [
    {
     "name": "stdout",
     "output_type": "stream",
     "text": [
      "Number of lines with question marks:  6\n"
     ]
    },
    {
     "data": {
      "text/html": [
       "<div>\n",
       "<style scoped>\n",
       "    .dataframe tbody tr th:only-of-type {\n",
       "        vertical-align: middle;\n",
       "    }\n",
       "\n",
       "    .dataframe tbody tr th {\n",
       "        vertical-align: top;\n",
       "    }\n",
       "\n",
       "    .dataframe thead th {\n",
       "        text-align: right;\n",
       "    }\n",
       "</style>\n",
       "<table border=\"1\" class=\"dataframe\">\n",
       "  <thead>\n",
       "    <tr style=\"text-align: right;\">\n",
       "      <th></th>\n",
       "      <th>age</th>\n",
       "      <th>sex</th>\n",
       "      <th>cp</th>\n",
       "      <th>trestbps</th>\n",
       "      <th>chol</th>\n",
       "      <th>fbs</th>\n",
       "      <th>restecg</th>\n",
       "      <th>thalach</th>\n",
       "      <th>exang</th>\n",
       "      <th>oldpeak</th>\n",
       "      <th>slope</th>\n",
       "      <th>ca</th>\n",
       "      <th>thal</th>\n",
       "      <th>hd</th>\n",
       "    </tr>\n",
       "  </thead>\n",
       "  <tbody>\n",
       "    <tr>\n",
       "      <th>87</th>\n",
       "      <td>53.0</td>\n",
       "      <td>0.0</td>\n",
       "      <td>3.0</td>\n",
       "      <td>128.0</td>\n",
       "      <td>216.0</td>\n",
       "      <td>0.0</td>\n",
       "      <td>2.0</td>\n",
       "      <td>115.0</td>\n",
       "      <td>0.0</td>\n",
       "      <td>0.0</td>\n",
       "      <td>1.0</td>\n",
       "      <td>0.0</td>\n",
       "      <td>?</td>\n",
       "      <td>0</td>\n",
       "    </tr>\n",
       "    <tr>\n",
       "      <th>166</th>\n",
       "      <td>52.0</td>\n",
       "      <td>1.0</td>\n",
       "      <td>3.0</td>\n",
       "      <td>138.0</td>\n",
       "      <td>223.0</td>\n",
       "      <td>0.0</td>\n",
       "      <td>0.0</td>\n",
       "      <td>169.0</td>\n",
       "      <td>0.0</td>\n",
       "      <td>0.0</td>\n",
       "      <td>1.0</td>\n",
       "      <td>?</td>\n",
       "      <td>3.0</td>\n",
       "      <td>0</td>\n",
       "    </tr>\n",
       "    <tr>\n",
       "      <th>192</th>\n",
       "      <td>43.0</td>\n",
       "      <td>1.0</td>\n",
       "      <td>4.0</td>\n",
       "      <td>132.0</td>\n",
       "      <td>247.0</td>\n",
       "      <td>1.0</td>\n",
       "      <td>2.0</td>\n",
       "      <td>143.0</td>\n",
       "      <td>1.0</td>\n",
       "      <td>0.1</td>\n",
       "      <td>2.0</td>\n",
       "      <td>?</td>\n",
       "      <td>7.0</td>\n",
       "      <td>1</td>\n",
       "    </tr>\n",
       "    <tr>\n",
       "      <th>266</th>\n",
       "      <td>52.0</td>\n",
       "      <td>1.0</td>\n",
       "      <td>4.0</td>\n",
       "      <td>128.0</td>\n",
       "      <td>204.0</td>\n",
       "      <td>1.0</td>\n",
       "      <td>0.0</td>\n",
       "      <td>156.0</td>\n",
       "      <td>1.0</td>\n",
       "      <td>1.0</td>\n",
       "      <td>2.0</td>\n",
       "      <td>0.0</td>\n",
       "      <td>?</td>\n",
       "      <td>2</td>\n",
       "    </tr>\n",
       "    <tr>\n",
       "      <th>287</th>\n",
       "      <td>58.0</td>\n",
       "      <td>1.0</td>\n",
       "      <td>2.0</td>\n",
       "      <td>125.0</td>\n",
       "      <td>220.0</td>\n",
       "      <td>0.0</td>\n",
       "      <td>0.0</td>\n",
       "      <td>144.0</td>\n",
       "      <td>0.0</td>\n",
       "      <td>0.4</td>\n",
       "      <td>2.0</td>\n",
       "      <td>?</td>\n",
       "      <td>7.0</td>\n",
       "      <td>0</td>\n",
       "    </tr>\n",
       "    <tr>\n",
       "      <th>302</th>\n",
       "      <td>38.0</td>\n",
       "      <td>1.0</td>\n",
       "      <td>3.0</td>\n",
       "      <td>138.0</td>\n",
       "      <td>175.0</td>\n",
       "      <td>0.0</td>\n",
       "      <td>0.0</td>\n",
       "      <td>173.0</td>\n",
       "      <td>0.0</td>\n",
       "      <td>0.0</td>\n",
       "      <td>1.0</td>\n",
       "      <td>?</td>\n",
       "      <td>3.0</td>\n",
       "      <td>0</td>\n",
       "    </tr>\n",
       "  </tbody>\n",
       "</table>\n",
       "</div>"
      ],
      "text/plain": [
       "      age  sex   cp  trestbps   chol  fbs  restecg  thalach  exang  oldpeak  \\\n",
       "87   53.0  0.0  3.0     128.0  216.0  0.0      2.0    115.0    0.0      0.0   \n",
       "166  52.0  1.0  3.0     138.0  223.0  0.0      0.0    169.0    0.0      0.0   \n",
       "192  43.0  1.0  4.0     132.0  247.0  1.0      2.0    143.0    1.0      0.1   \n",
       "266  52.0  1.0  4.0     128.0  204.0  1.0      0.0    156.0    1.0      1.0   \n",
       "287  58.0  1.0  2.0     125.0  220.0  0.0      0.0    144.0    0.0      0.4   \n",
       "302  38.0  1.0  3.0     138.0  175.0  0.0      0.0    173.0    0.0      0.0   \n",
       "\n",
       "     slope   ca thal  hd  \n",
       "87     1.0  0.0    ?   0  \n",
       "166    1.0    ?  3.0   0  \n",
       "192    2.0    ?  7.0   1  \n",
       "266    2.0  0.0    ?   2  \n",
       "287    2.0    ?  7.0   0  \n",
       "302    1.0    ?  3.0   0  "
      ]
     },
     "execution_count": 6,
     "metadata": {},
     "output_type": "execute_result"
    }
   ],
   "source": [
    "df_loc_q = df.loc[(df['ca'] == '?')\n",
    "        | \n",
    "        (df['thal'] == '?')]\n",
    "len_df_loc_q = len(df_loc_q)\n",
    "print(\"Number of lines with question marks: \", len_df_loc_q)\n",
    "df_loc_q"
   ]
  },
  {
   "cell_type": "markdown",
   "id": "ec0c45ee-333f-42b2-9fdb-aa65df3bd7bc",
   "metadata": {},
   "source": [
    "We valuate if the amount of missing data is important or not"
   ]
  },
  {
   "cell_type": "code",
   "execution_count": 7,
   "id": "cb36177b-7fc9-4cb4-9b32-4dc6b6336a74",
   "metadata": {},
   "outputs": [
    {
     "name": "stdout",
     "output_type": "stream",
     "text": [
      "The total data df:  303\n",
      "Rate of missing data:  2 %\n"
     ]
    }
   ],
   "source": [
    "total_df = len(df)\n",
    "print(\"The total data df: \", total_df)\n",
    "precent_md = (len_df_loc_q)/total_df\n",
    "print(\"Rate of missing data: \", round(precent_md*100), '%')"
   ]
  },
  {
   "cell_type": "markdown",
   "id": "a1a9b559-9558-4913-97c7-902d53aeb7fa",
   "metadata": {},
   "source": [
    "It's a small amount so we dont have to create a new dataset"
   ]
  },
  {
   "cell_type": "code",
   "execution_count": 8,
   "id": "5b002fe9-27d3-41dd-97e7-5b05ad3dcd53",
   "metadata": {},
   "outputs": [
    {
     "name": "stdout",
     "output_type": "stream",
     "text": [
      "Total data df_no_misiing:  297\n"
     ]
    }
   ],
   "source": [
    "df_no_misiing =  df.loc[(df['ca'] != '?')\n",
    "        &\n",
    "        (df['thal'] != '?')]\n",
    "print(\"Total data df_no_misiing: \", len(df_no_misiing))"
   ]
  },
  {
   "cell_type": "markdown",
   "id": "3159eeb9-d72f-4900-811a-58c60e113ebf",
   "metadata": {},
   "source": [
    "# Format data: Seperation to data for the categorizationand we keep a column for the Tag."
   ]
  },
  {
   "cell_type": "code",
   "execution_count": 9,
   "id": "30b642fc-e3fe-4756-9864-2af2e218dd84",
   "metadata": {},
   "outputs": [
    {
     "data": {
      "text/html": [
       "<div>\n",
       "<style scoped>\n",
       "    .dataframe tbody tr th:only-of-type {\n",
       "        vertical-align: middle;\n",
       "    }\n",
       "\n",
       "    .dataframe tbody tr th {\n",
       "        vertical-align: top;\n",
       "    }\n",
       "\n",
       "    .dataframe thead th {\n",
       "        text-align: right;\n",
       "    }\n",
       "</style>\n",
       "<table border=\"1\" class=\"dataframe\">\n",
       "  <thead>\n",
       "    <tr style=\"text-align: right;\">\n",
       "      <th></th>\n",
       "      <th>age</th>\n",
       "      <th>sex</th>\n",
       "      <th>cp</th>\n",
       "      <th>trestbps</th>\n",
       "      <th>chol</th>\n",
       "      <th>fbs</th>\n",
       "      <th>restecg</th>\n",
       "      <th>thalach</th>\n",
       "      <th>exang</th>\n",
       "      <th>oldpeak</th>\n",
       "      <th>slope</th>\n",
       "      <th>ca</th>\n",
       "      <th>thal</th>\n",
       "    </tr>\n",
       "  </thead>\n",
       "  <tbody>\n",
       "    <tr>\n",
       "      <th>0</th>\n",
       "      <td>63.0</td>\n",
       "      <td>1.0</td>\n",
       "      <td>1.0</td>\n",
       "      <td>145.0</td>\n",
       "      <td>233.0</td>\n",
       "      <td>1.0</td>\n",
       "      <td>2.0</td>\n",
       "      <td>150.0</td>\n",
       "      <td>0.0</td>\n",
       "      <td>2.3</td>\n",
       "      <td>3.0</td>\n",
       "      <td>0.0</td>\n",
       "      <td>6.0</td>\n",
       "    </tr>\n",
       "    <tr>\n",
       "      <th>1</th>\n",
       "      <td>67.0</td>\n",
       "      <td>1.0</td>\n",
       "      <td>4.0</td>\n",
       "      <td>160.0</td>\n",
       "      <td>286.0</td>\n",
       "      <td>0.0</td>\n",
       "      <td>2.0</td>\n",
       "      <td>108.0</td>\n",
       "      <td>1.0</td>\n",
       "      <td>1.5</td>\n",
       "      <td>2.0</td>\n",
       "      <td>3.0</td>\n",
       "      <td>3.0</td>\n",
       "    </tr>\n",
       "    <tr>\n",
       "      <th>2</th>\n",
       "      <td>67.0</td>\n",
       "      <td>1.0</td>\n",
       "      <td>4.0</td>\n",
       "      <td>120.0</td>\n",
       "      <td>229.0</td>\n",
       "      <td>0.0</td>\n",
       "      <td>2.0</td>\n",
       "      <td>129.0</td>\n",
       "      <td>1.0</td>\n",
       "      <td>2.6</td>\n",
       "      <td>2.0</td>\n",
       "      <td>2.0</td>\n",
       "      <td>7.0</td>\n",
       "    </tr>\n",
       "    <tr>\n",
       "      <th>3</th>\n",
       "      <td>37.0</td>\n",
       "      <td>1.0</td>\n",
       "      <td>3.0</td>\n",
       "      <td>130.0</td>\n",
       "      <td>250.0</td>\n",
       "      <td>0.0</td>\n",
       "      <td>0.0</td>\n",
       "      <td>187.0</td>\n",
       "      <td>0.0</td>\n",
       "      <td>3.5</td>\n",
       "      <td>3.0</td>\n",
       "      <td>0.0</td>\n",
       "      <td>3.0</td>\n",
       "    </tr>\n",
       "    <tr>\n",
       "      <th>4</th>\n",
       "      <td>41.0</td>\n",
       "      <td>0.0</td>\n",
       "      <td>2.0</td>\n",
       "      <td>130.0</td>\n",
       "      <td>204.0</td>\n",
       "      <td>0.0</td>\n",
       "      <td>2.0</td>\n",
       "      <td>172.0</td>\n",
       "      <td>0.0</td>\n",
       "      <td>1.4</td>\n",
       "      <td>1.0</td>\n",
       "      <td>0.0</td>\n",
       "      <td>3.0</td>\n",
       "    </tr>\n",
       "  </tbody>\n",
       "</table>\n",
       "</div>"
      ],
      "text/plain": [
       "    age  sex   cp  trestbps   chol  fbs  restecg  thalach  exang  oldpeak  \\\n",
       "0  63.0  1.0  1.0     145.0  233.0  1.0      2.0    150.0    0.0      2.3   \n",
       "1  67.0  1.0  4.0     160.0  286.0  0.0      2.0    108.0    1.0      1.5   \n",
       "2  67.0  1.0  4.0     120.0  229.0  0.0      2.0    129.0    1.0      2.6   \n",
       "3  37.0  1.0  3.0     130.0  250.0  0.0      0.0    187.0    0.0      3.5   \n",
       "4  41.0  0.0  2.0     130.0  204.0  0.0      2.0    172.0    0.0      1.4   \n",
       "\n",
       "   slope   ca thal  \n",
       "0    3.0  0.0  6.0  \n",
       "1    2.0  3.0  3.0  \n",
       "2    2.0  2.0  7.0  \n",
       "3    3.0  0.0  3.0  \n",
       "4    1.0  0.0  3.0  "
      ]
     },
     "execution_count": 9,
     "metadata": {},
     "output_type": "execute_result"
    }
   ],
   "source": [
    "# The data\n",
    "X = df_no_misiing.drop(columns = ['hd']).copy() #df_no_misiing.drop('hd', axis = 1) or df_no_misiing.iloc([:,:-1]) removes columns from the data.\n",
    "X.head()"
   ]
  },
  {
   "cell_type": "code",
   "execution_count": 10,
   "id": "ad7ae95d-e108-41fd-ac42-303179036859",
   "metadata": {
    "scrolled": true
   },
   "outputs": [
    {
     "data": {
      "text/plain": [
       "0    0\n",
       "1    2\n",
       "2    1\n",
       "3    0\n",
       "4    0\n",
       "Name: hd, dtype: int64"
      ]
     },
     "execution_count": 10,
     "metadata": {},
     "output_type": "execute_result"
    }
   ],
   "source": [
    "# Tags\n",
    "y = df_no_misiing['hd'].copy()\n",
    "y.head()"
   ]
  },
  {
   "cell_type": "markdown",
   "id": "dcab87de-fef8-437f-8200-2e584702fc1a",
   "metadata": {},
   "source": [
    "One hot encoding"
   ]
  },
  {
   "cell_type": "code",
   "execution_count": 11,
   "id": "f12d8647-53fd-4e6e-8070-23449e06ee2d",
   "metadata": {},
   "outputs": [
    {
     "name": "stdout",
     "output_type": "stream",
     "text": [
      "The variables of cp:  [1. 4. 3. 2.]\n"
     ]
    },
    {
     "data": {
      "text/html": [
       "<div>\n",
       "<style scoped>\n",
       "    .dataframe tbody tr th:only-of-type {\n",
       "        vertical-align: middle;\n",
       "    }\n",
       "\n",
       "    .dataframe tbody tr th {\n",
       "        vertical-align: top;\n",
       "    }\n",
       "\n",
       "    .dataframe thead th {\n",
       "        text-align: right;\n",
       "    }\n",
       "</style>\n",
       "<table border=\"1\" class=\"dataframe\">\n",
       "  <thead>\n",
       "    <tr style=\"text-align: right;\">\n",
       "      <th></th>\n",
       "      <th>age</th>\n",
       "      <th>sex</th>\n",
       "      <th>trestbps</th>\n",
       "      <th>chol</th>\n",
       "      <th>fbs</th>\n",
       "      <th>restecg</th>\n",
       "      <th>thalach</th>\n",
       "      <th>exang</th>\n",
       "      <th>oldpeak</th>\n",
       "      <th>slope</th>\n",
       "      <th>ca</th>\n",
       "      <th>thal</th>\n",
       "      <th>cp_1.0</th>\n",
       "      <th>cp_2.0</th>\n",
       "      <th>cp_3.0</th>\n",
       "      <th>cp_4.0</th>\n",
       "    </tr>\n",
       "  </thead>\n",
       "  <tbody>\n",
       "    <tr>\n",
       "      <th>0</th>\n",
       "      <td>63.0</td>\n",
       "      <td>1.0</td>\n",
       "      <td>145.0</td>\n",
       "      <td>233.0</td>\n",
       "      <td>1.0</td>\n",
       "      <td>2.0</td>\n",
       "      <td>150.0</td>\n",
       "      <td>0.0</td>\n",
       "      <td>2.3</td>\n",
       "      <td>3.0</td>\n",
       "      <td>0.0</td>\n",
       "      <td>6.0</td>\n",
       "      <td>1</td>\n",
       "      <td>0</td>\n",
       "      <td>0</td>\n",
       "      <td>0</td>\n",
       "    </tr>\n",
       "    <tr>\n",
       "      <th>1</th>\n",
       "      <td>67.0</td>\n",
       "      <td>1.0</td>\n",
       "      <td>160.0</td>\n",
       "      <td>286.0</td>\n",
       "      <td>0.0</td>\n",
       "      <td>2.0</td>\n",
       "      <td>108.0</td>\n",
       "      <td>1.0</td>\n",
       "      <td>1.5</td>\n",
       "      <td>2.0</td>\n",
       "      <td>3.0</td>\n",
       "      <td>3.0</td>\n",
       "      <td>0</td>\n",
       "      <td>0</td>\n",
       "      <td>0</td>\n",
       "      <td>1</td>\n",
       "    </tr>\n",
       "    <tr>\n",
       "      <th>2</th>\n",
       "      <td>67.0</td>\n",
       "      <td>1.0</td>\n",
       "      <td>120.0</td>\n",
       "      <td>229.0</td>\n",
       "      <td>0.0</td>\n",
       "      <td>2.0</td>\n",
       "      <td>129.0</td>\n",
       "      <td>1.0</td>\n",
       "      <td>2.6</td>\n",
       "      <td>2.0</td>\n",
       "      <td>2.0</td>\n",
       "      <td>7.0</td>\n",
       "      <td>0</td>\n",
       "      <td>0</td>\n",
       "      <td>0</td>\n",
       "      <td>1</td>\n",
       "    </tr>\n",
       "    <tr>\n",
       "      <th>3</th>\n",
       "      <td>37.0</td>\n",
       "      <td>1.0</td>\n",
       "      <td>130.0</td>\n",
       "      <td>250.0</td>\n",
       "      <td>0.0</td>\n",
       "      <td>0.0</td>\n",
       "      <td>187.0</td>\n",
       "      <td>0.0</td>\n",
       "      <td>3.5</td>\n",
       "      <td>3.0</td>\n",
       "      <td>0.0</td>\n",
       "      <td>3.0</td>\n",
       "      <td>0</td>\n",
       "      <td>0</td>\n",
       "      <td>1</td>\n",
       "      <td>0</td>\n",
       "    </tr>\n",
       "    <tr>\n",
       "      <th>4</th>\n",
       "      <td>41.0</td>\n",
       "      <td>0.0</td>\n",
       "      <td>130.0</td>\n",
       "      <td>204.0</td>\n",
       "      <td>0.0</td>\n",
       "      <td>2.0</td>\n",
       "      <td>172.0</td>\n",
       "      <td>0.0</td>\n",
       "      <td>1.4</td>\n",
       "      <td>1.0</td>\n",
       "      <td>0.0</td>\n",
       "      <td>3.0</td>\n",
       "      <td>0</td>\n",
       "      <td>1</td>\n",
       "      <td>0</td>\n",
       "      <td>0</td>\n",
       "    </tr>\n",
       "  </tbody>\n",
       "</table>\n",
       "</div>"
      ],
      "text/plain": [
       "    age  sex  trestbps   chol  fbs  restecg  thalach  exang  oldpeak  slope  \\\n",
       "0  63.0  1.0     145.0  233.0  1.0      2.0    150.0    0.0      2.3    3.0   \n",
       "1  67.0  1.0     160.0  286.0  0.0      2.0    108.0    1.0      1.5    2.0   \n",
       "2  67.0  1.0     120.0  229.0  0.0      2.0    129.0    1.0      2.6    2.0   \n",
       "3  37.0  1.0     130.0  250.0  0.0      0.0    187.0    0.0      3.5    3.0   \n",
       "4  41.0  0.0     130.0  204.0  0.0      2.0    172.0    0.0      1.4    1.0   \n",
       "\n",
       "    ca thal  cp_1.0  cp_2.0  cp_3.0  cp_4.0  \n",
       "0  0.0  6.0       1       0       0       0  \n",
       "1  3.0  3.0       0       0       0       1  \n",
       "2  2.0  7.0       0       0       0       1  \n",
       "3  0.0  3.0       0       0       1       0  \n",
       "4  0.0  3.0       0       1       0       0  "
      ]
     },
     "execution_count": 11,
     "metadata": {},
     "output_type": "execute_result"
    }
   ],
   "source": [
    "# Data cp\n",
    "print(\"The variables of cp: \", X['cp'].unique())\n",
    "pd.get_dummies(X, columns = ['cp']).head()"
   ]
  },
  {
   "cell_type": "markdown",
   "id": "f5f10c94-a72c-4f77-b651-e23f0db8c1c2",
   "metadata": {},
   "source": [
    "The same for restecg, slope, thal"
   ]
  },
  {
   "cell_type": "code",
   "execution_count": 12,
   "id": "994b6b43-0160-4750-97a1-c5ef4b37159e",
   "metadata": {},
   "outputs": [
    {
     "data": {
      "text/html": [
       "<div>\n",
       "<style scoped>\n",
       "    .dataframe tbody tr th:only-of-type {\n",
       "        vertical-align: middle;\n",
       "    }\n",
       "\n",
       "    .dataframe tbody tr th {\n",
       "        vertical-align: top;\n",
       "    }\n",
       "\n",
       "    .dataframe thead th {\n",
       "        text-align: right;\n",
       "    }\n",
       "</style>\n",
       "<table border=\"1\" class=\"dataframe\">\n",
       "  <thead>\n",
       "    <tr style=\"text-align: right;\">\n",
       "      <th></th>\n",
       "      <th>age</th>\n",
       "      <th>sex</th>\n",
       "      <th>trestbps</th>\n",
       "      <th>chol</th>\n",
       "      <th>fbs</th>\n",
       "      <th>thalach</th>\n",
       "      <th>exang</th>\n",
       "      <th>oldpeak</th>\n",
       "      <th>ca</th>\n",
       "      <th>cp_1.0</th>\n",
       "      <th>...</th>\n",
       "      <th>cp_4.0</th>\n",
       "      <th>restecg_0.0</th>\n",
       "      <th>restecg_1.0</th>\n",
       "      <th>restecg_2.0</th>\n",
       "      <th>slope_1.0</th>\n",
       "      <th>slope_2.0</th>\n",
       "      <th>slope_3.0</th>\n",
       "      <th>thal_3.0</th>\n",
       "      <th>thal_6.0</th>\n",
       "      <th>thal_7.0</th>\n",
       "    </tr>\n",
       "  </thead>\n",
       "  <tbody>\n",
       "    <tr>\n",
       "      <th>0</th>\n",
       "      <td>63.0</td>\n",
       "      <td>1.0</td>\n",
       "      <td>145.0</td>\n",
       "      <td>233.0</td>\n",
       "      <td>1.0</td>\n",
       "      <td>150.0</td>\n",
       "      <td>0.0</td>\n",
       "      <td>2.3</td>\n",
       "      <td>0.0</td>\n",
       "      <td>1</td>\n",
       "      <td>...</td>\n",
       "      <td>0</td>\n",
       "      <td>0</td>\n",
       "      <td>0</td>\n",
       "      <td>1</td>\n",
       "      <td>0</td>\n",
       "      <td>0</td>\n",
       "      <td>1</td>\n",
       "      <td>0</td>\n",
       "      <td>1</td>\n",
       "      <td>0</td>\n",
       "    </tr>\n",
       "    <tr>\n",
       "      <th>1</th>\n",
       "      <td>67.0</td>\n",
       "      <td>1.0</td>\n",
       "      <td>160.0</td>\n",
       "      <td>286.0</td>\n",
       "      <td>0.0</td>\n",
       "      <td>108.0</td>\n",
       "      <td>1.0</td>\n",
       "      <td>1.5</td>\n",
       "      <td>3.0</td>\n",
       "      <td>0</td>\n",
       "      <td>...</td>\n",
       "      <td>1</td>\n",
       "      <td>0</td>\n",
       "      <td>0</td>\n",
       "      <td>1</td>\n",
       "      <td>0</td>\n",
       "      <td>1</td>\n",
       "      <td>0</td>\n",
       "      <td>1</td>\n",
       "      <td>0</td>\n",
       "      <td>0</td>\n",
       "    </tr>\n",
       "    <tr>\n",
       "      <th>2</th>\n",
       "      <td>67.0</td>\n",
       "      <td>1.0</td>\n",
       "      <td>120.0</td>\n",
       "      <td>229.0</td>\n",
       "      <td>0.0</td>\n",
       "      <td>129.0</td>\n",
       "      <td>1.0</td>\n",
       "      <td>2.6</td>\n",
       "      <td>2.0</td>\n",
       "      <td>0</td>\n",
       "      <td>...</td>\n",
       "      <td>1</td>\n",
       "      <td>0</td>\n",
       "      <td>0</td>\n",
       "      <td>1</td>\n",
       "      <td>0</td>\n",
       "      <td>1</td>\n",
       "      <td>0</td>\n",
       "      <td>0</td>\n",
       "      <td>0</td>\n",
       "      <td>1</td>\n",
       "    </tr>\n",
       "    <tr>\n",
       "      <th>3</th>\n",
       "      <td>37.0</td>\n",
       "      <td>1.0</td>\n",
       "      <td>130.0</td>\n",
       "      <td>250.0</td>\n",
       "      <td>0.0</td>\n",
       "      <td>187.0</td>\n",
       "      <td>0.0</td>\n",
       "      <td>3.5</td>\n",
       "      <td>0.0</td>\n",
       "      <td>0</td>\n",
       "      <td>...</td>\n",
       "      <td>0</td>\n",
       "      <td>1</td>\n",
       "      <td>0</td>\n",
       "      <td>0</td>\n",
       "      <td>0</td>\n",
       "      <td>0</td>\n",
       "      <td>1</td>\n",
       "      <td>1</td>\n",
       "      <td>0</td>\n",
       "      <td>0</td>\n",
       "    </tr>\n",
       "    <tr>\n",
       "      <th>4</th>\n",
       "      <td>41.0</td>\n",
       "      <td>0.0</td>\n",
       "      <td>130.0</td>\n",
       "      <td>204.0</td>\n",
       "      <td>0.0</td>\n",
       "      <td>172.0</td>\n",
       "      <td>0.0</td>\n",
       "      <td>1.4</td>\n",
       "      <td>0.0</td>\n",
       "      <td>0</td>\n",
       "      <td>...</td>\n",
       "      <td>0</td>\n",
       "      <td>0</td>\n",
       "      <td>0</td>\n",
       "      <td>1</td>\n",
       "      <td>1</td>\n",
       "      <td>0</td>\n",
       "      <td>0</td>\n",
       "      <td>1</td>\n",
       "      <td>0</td>\n",
       "      <td>0</td>\n",
       "    </tr>\n",
       "  </tbody>\n",
       "</table>\n",
       "<p>5 rows × 22 columns</p>\n",
       "</div>"
      ],
      "text/plain": [
       "    age  sex  trestbps   chol  fbs  thalach  exang  oldpeak   ca  cp_1.0  ...  \\\n",
       "0  63.0  1.0     145.0  233.0  1.0    150.0    0.0      2.3  0.0       1  ...   \n",
       "1  67.0  1.0     160.0  286.0  0.0    108.0    1.0      1.5  3.0       0  ...   \n",
       "2  67.0  1.0     120.0  229.0  0.0    129.0    1.0      2.6  2.0       0  ...   \n",
       "3  37.0  1.0     130.0  250.0  0.0    187.0    0.0      3.5  0.0       0  ...   \n",
       "4  41.0  0.0     130.0  204.0  0.0    172.0    0.0      1.4  0.0       0  ...   \n",
       "\n",
       "   cp_4.0  restecg_0.0  restecg_1.0  restecg_2.0  slope_1.0  slope_2.0  \\\n",
       "0       0            0            0            1          0          0   \n",
       "1       1            0            0            1          0          1   \n",
       "2       1            0            0            1          0          1   \n",
       "3       0            1            0            0          0          0   \n",
       "4       0            0            0            1          1          0   \n",
       "\n",
       "   slope_3.0  thal_3.0  thal_6.0  thal_7.0  \n",
       "0          1         0         1         0  \n",
       "1          0         1         0         0  \n",
       "2          0         0         0         1  \n",
       "3          1         1         0         0  \n",
       "4          0         1         0         0  \n",
       "\n",
       "[5 rows x 22 columns]"
      ]
     },
     "execution_count": 12,
     "metadata": {},
     "output_type": "execute_result"
    }
   ],
   "source": [
    "X_encoded = pd.get_dummies(X, columns = ['cp',\n",
    "                                        'restecg',\n",
    "                                        'slope',\n",
    "                                        'thal'])\n",
    "X_encoded.head()"
   ]
  },
  {
   "cell_type": "markdown",
   "id": "60540dcd-9a34-4cba-8945-5217f024106d",
   "metadata": {},
   "source": [
    "Now we change the Tags. The y has 4 values and we want to make them two 0 for those without a heart attack and 1 for those with a heart attack."
   ]
  },
  {
   "cell_type": "code",
   "execution_count": 13,
   "id": "e64a986a-6e1c-43bf-a3df-50774e2c881f",
   "metadata": {},
   "outputs": [
    {
     "data": {
      "text/plain": [
       "array([0, 2, 1, 3, 4], dtype=int64)"
      ]
     },
     "execution_count": 13,
     "metadata": {},
     "output_type": "execute_result"
    }
   ],
   "source": [
    "y.unique()"
   ]
  },
  {
   "cell_type": "markdown",
   "id": "5232049d-063a-4fe6-a256-dc2fd4544d9b",
   "metadata": {},
   "source": [
    "if y > 0 they become 1"
   ]
  },
  {
   "cell_type": "code",
   "execution_count": 14,
   "id": "03014b1a-acc6-4c2a-8727-f20fc9edb0e9",
   "metadata": {},
   "outputs": [
    {
     "data": {
      "text/plain": [
       "array([0, 1], dtype=int64)"
      ]
     },
     "execution_count": 14,
     "metadata": {},
     "output_type": "execute_result"
    }
   ],
   "source": [
    "y_not_zero_index = y>0\n",
    "y[y_not_zero_index] = 1\n",
    "y.unique()"
   ]
  },
  {
   "cell_type": "markdown",
   "id": "30ec25da-9919-49cb-bec8-aaddbc795c41",
   "metadata": {},
   "source": [
    "# First Classification tree decision"
   ]
  },
  {
   "cell_type": "markdown",
   "id": "61b5c97f-025d-44e5-9bcd-c89dd5e6cd32",
   "metadata": {},
   "source": [
    "Seperation of data to trainning and testing"
   ]
  },
  {
   "cell_type": "code",
   "execution_count": 15,
   "id": "07443807-0d0f-4d48-bb4b-f9445aa83b59",
   "metadata": {},
   "outputs": [],
   "source": [
    "X_train, X_test, y_train, y_test = train_test_split(X_encoded, y, random_state = 42, test_size=0.3) # test_size = 0.25 default\n",
    "# Classification decision tree\n",
    "clf_dt = DecisionTreeClassifier(random_state = 42)\n",
    "clf_dt = clf_dt.fit(X_train, y_train)"
   ]
  },
  {
   "cell_type": "code",
   "execution_count": 16,
   "id": "7602fd77-56da-43f9-b88b-4e0538207eaf",
   "metadata": {},
   "outputs": [
    {
     "data": {
      "text/plain": [
       "[Text(0.5306122448979592, 0.9545454545454546, 'ca <= 0.5\\ngini = 0.497\\nsamples = 207\\nvalue = [111, 96]\\nclass = NO HD'),\n",
       " Text(0.28061224489795916, 0.8636363636363636, 'thal_3.0 <= 0.5\\ngini = 0.36\\nsamples = 119\\nvalue = [91, 28]\\nclass = NO HD'),\n",
       " Text(0.15306122448979592, 0.7727272727272727, 'age <= 51.5\\ngini = 0.5\\nsamples = 39\\nvalue = [19, 20]\\nclass = YES HD'),\n",
       " Text(0.08163265306122448, 0.6818181818181818, 'cp_4.0 <= 0.5\\ngini = 0.346\\nsamples = 18\\nvalue = [4, 14]\\nclass = YES HD'),\n",
       " Text(0.04081632653061224, 0.5909090909090909, 'trestbps <= 115.0\\ngini = 0.48\\nsamples = 5\\nvalue = [3, 2]\\nclass = NO HD'),\n",
       " Text(0.02040816326530612, 0.5, 'gini = 0.0\\nsamples = 2\\nvalue = [0, 2]\\nclass = YES HD'),\n",
       " Text(0.061224489795918366, 0.5, 'gini = 0.0\\nsamples = 3\\nvalue = [3, 0]\\nclass = NO HD'),\n",
       " Text(0.12244897959183673, 0.5909090909090909, 'trestbps <= 115.0\\ngini = 0.142\\nsamples = 13\\nvalue = [1, 12]\\nclass = YES HD'),\n",
       " Text(0.10204081632653061, 0.5, 'restecg_0.0 <= 0.5\\ngini = 0.444\\nsamples = 3\\nvalue = [1, 2]\\nclass = YES HD'),\n",
       " Text(0.08163265306122448, 0.4090909090909091, 'gini = 0.0\\nsamples = 2\\nvalue = [0, 2]\\nclass = YES HD'),\n",
       " Text(0.12244897959183673, 0.4090909090909091, 'gini = 0.0\\nsamples = 1\\nvalue = [1, 0]\\nclass = NO HD'),\n",
       " Text(0.14285714285714285, 0.5, 'gini = 0.0\\nsamples = 10\\nvalue = [0, 10]\\nclass = YES HD'),\n",
       " Text(0.22448979591836735, 0.6818181818181818, 'oldpeak <= 2.45\\ngini = 0.408\\nsamples = 21\\nvalue = [15, 6]\\nclass = NO HD'),\n",
       " Text(0.20408163265306123, 0.5909090909090909, 'chol <= 259.5\\ngini = 0.332\\nsamples = 19\\nvalue = [15, 4]\\nclass = NO HD'),\n",
       " Text(0.1836734693877551, 0.5, 'gini = 0.0\\nsamples = 12\\nvalue = [12, 0]\\nclass = NO HD'),\n",
       " Text(0.22448979591836735, 0.5, 'chol <= 293.0\\ngini = 0.49\\nsamples = 7\\nvalue = [3, 4]\\nclass = YES HD'),\n",
       " Text(0.20408163265306123, 0.4090909090909091, 'gini = 0.0\\nsamples = 3\\nvalue = [0, 3]\\nclass = YES HD'),\n",
       " Text(0.24489795918367346, 0.4090909090909091, 'thalach <= 132.0\\ngini = 0.375\\nsamples = 4\\nvalue = [3, 1]\\nclass = NO HD'),\n",
       " Text(0.22448979591836735, 0.3181818181818182, 'gini = 0.0\\nsamples = 1\\nvalue = [0, 1]\\nclass = YES HD'),\n",
       " Text(0.2653061224489796, 0.3181818181818182, 'gini = 0.0\\nsamples = 3\\nvalue = [3, 0]\\nclass = NO HD'),\n",
       " Text(0.24489795918367346, 0.5909090909090909, 'gini = 0.0\\nsamples = 2\\nvalue = [0, 2]\\nclass = YES HD'),\n",
       " Text(0.40816326530612246, 0.7727272727272727, 'trestbps <= 158.0\\ngini = 0.18\\nsamples = 80\\nvalue = [72, 8]\\nclass = NO HD'),\n",
       " Text(0.3673469387755102, 0.6818181818181818, 'thalach <= 83.5\\ngini = 0.144\\nsamples = 77\\nvalue = [71, 6]\\nclass = NO HD'),\n",
       " Text(0.3469387755102041, 0.5909090909090909, 'gini = 0.0\\nsamples = 1\\nvalue = [0, 1]\\nclass = YES HD'),\n",
       " Text(0.3877551020408163, 0.5909090909090909, 'oldpeak <= 3.55\\ngini = 0.123\\nsamples = 76\\nvalue = [71, 5]\\nclass = NO HD'),\n",
       " Text(0.3673469387755102, 0.5, 'chol <= 319.0\\ngini = 0.101\\nsamples = 75\\nvalue = [71, 4]\\nclass = NO HD'),\n",
       " Text(0.32653061224489793, 0.4090909090909091, 'thalach <= 154.5\\ngini = 0.056\\nsamples = 70\\nvalue = [68, 2]\\nclass = NO HD'),\n",
       " Text(0.30612244897959184, 0.3181818181818182, 'thalach <= 153.5\\ngini = 0.153\\nsamples = 24\\nvalue = [22, 2]\\nclass = NO HD'),\n",
       " Text(0.2857142857142857, 0.22727272727272727, 'oldpeak <= 0.1\\ngini = 0.083\\nsamples = 23\\nvalue = [22, 1]\\nclass = NO HD'),\n",
       " Text(0.2653061224489796, 0.13636363636363635, 'trestbps <= 114.0\\ngini = 0.32\\nsamples = 5\\nvalue = [4, 1]\\nclass = NO HD'),\n",
       " Text(0.24489795918367346, 0.045454545454545456, 'gini = 0.0\\nsamples = 1\\nvalue = [0, 1]\\nclass = YES HD'),\n",
       " Text(0.2857142857142857, 0.045454545454545456, 'gini = 0.0\\nsamples = 4\\nvalue = [4, 0]\\nclass = NO HD'),\n",
       " Text(0.30612244897959184, 0.13636363636363635, 'gini = 0.0\\nsamples = 18\\nvalue = [18, 0]\\nclass = NO HD'),\n",
       " Text(0.32653061224489793, 0.22727272727272727, 'gini = 0.0\\nsamples = 1\\nvalue = [0, 1]\\nclass = YES HD'),\n",
       " Text(0.3469387755102041, 0.3181818181818182, 'gini = 0.0\\nsamples = 46\\nvalue = [46, 0]\\nclass = NO HD'),\n",
       " Text(0.40816326530612246, 0.4090909090909091, 'chol <= 337.5\\ngini = 0.48\\nsamples = 5\\nvalue = [3, 2]\\nclass = NO HD'),\n",
       " Text(0.3877551020408163, 0.3181818181818182, 'gini = 0.0\\nsamples = 2\\nvalue = [0, 2]\\nclass = YES HD'),\n",
       " Text(0.42857142857142855, 0.3181818181818182, 'gini = 0.0\\nsamples = 3\\nvalue = [3, 0]\\nclass = NO HD'),\n",
       " Text(0.40816326530612246, 0.5, 'gini = 0.0\\nsamples = 1\\nvalue = [0, 1]\\nclass = YES HD'),\n",
       " Text(0.4489795918367347, 0.6818181818181818, 'thalach <= 148.5\\ngini = 0.444\\nsamples = 3\\nvalue = [1, 2]\\nclass = YES HD'),\n",
       " Text(0.42857142857142855, 0.5909090909090909, 'gini = 0.0\\nsamples = 2\\nvalue = [0, 2]\\nclass = YES HD'),\n",
       " Text(0.46938775510204084, 0.5909090909090909, 'gini = 0.0\\nsamples = 1\\nvalue = [1, 0]\\nclass = NO HD'),\n",
       " Text(0.7806122448979592, 0.8636363636363636, 'cp_4.0 <= 0.5\\ngini = 0.351\\nsamples = 88\\nvalue = [20, 68]\\nclass = YES HD'),\n",
       " Text(0.6632653061224489, 0.7727272727272727, 'oldpeak <= 0.55\\ngini = 0.499\\nsamples = 31\\nvalue = [16, 15]\\nclass = NO HD'),\n",
       " Text(0.5714285714285714, 0.6818181818181818, 'cp_2.0 <= 0.5\\ngini = 0.401\\nsamples = 18\\nvalue = [13, 5]\\nclass = NO HD'),\n",
       " Text(0.5102040816326531, 0.5909090909090909, 'oldpeak <= 0.35\\ngini = 0.165\\nsamples = 11\\nvalue = [10, 1]\\nclass = NO HD'),\n",
       " Text(0.4897959183673469, 0.5, 'gini = 0.0\\nsamples = 9\\nvalue = [9, 0]\\nclass = NO HD'),\n",
       " Text(0.5306122448979592, 0.5, 'slope_2.0 <= 0.5\\ngini = 0.5\\nsamples = 2\\nvalue = [1, 1]\\nclass = NO HD'),\n",
       " Text(0.5102040816326531, 0.4090909090909091, 'gini = 0.0\\nsamples = 1\\nvalue = [1, 0]\\nclass = NO HD'),\n",
       " Text(0.5510204081632653, 0.4090909090909091, 'gini = 0.0\\nsamples = 1\\nvalue = [0, 1]\\nclass = YES HD'),\n",
       " Text(0.6326530612244898, 0.5909090909090909, 'trestbps <= 134.0\\ngini = 0.49\\nsamples = 7\\nvalue = [3, 4]\\nclass = YES HD'),\n",
       " Text(0.6122448979591837, 0.5, 'slope_2.0 <= 0.5\\ngini = 0.375\\nsamples = 4\\nvalue = [3, 1]\\nclass = NO HD'),\n",
       " Text(0.5918367346938775, 0.4090909090909091, 'gini = 0.0\\nsamples = 3\\nvalue = [3, 0]\\nclass = NO HD'),\n",
       " Text(0.6326530612244898, 0.4090909090909091, 'gini = 0.0\\nsamples = 1\\nvalue = [0, 1]\\nclass = YES HD'),\n",
       " Text(0.6530612244897959, 0.5, 'gini = 0.0\\nsamples = 3\\nvalue = [0, 3]\\nclass = YES HD'),\n",
       " Text(0.7551020408163265, 0.6818181818181818, 'trestbps <= 139.0\\ngini = 0.355\\nsamples = 13\\nvalue = [3, 10]\\nclass = YES HD'),\n",
       " Text(0.7142857142857143, 0.5909090909090909, 'ca <= 2.5\\ngini = 0.18\\nsamples = 10\\nvalue = [1, 9]\\nclass = YES HD'),\n",
       " Text(0.6938775510204082, 0.5, 'gini = 0.0\\nsamples = 7\\nvalue = [0, 7]\\nclass = YES HD'),\n",
       " Text(0.7346938775510204, 0.5, 'chol <= 209.5\\ngini = 0.444\\nsamples = 3\\nvalue = [1, 2]\\nclass = YES HD'),\n",
       " Text(0.7142857142857143, 0.4090909090909091, 'gini = 0.0\\nsamples = 2\\nvalue = [0, 2]\\nclass = YES HD'),\n",
       " Text(0.7551020408163265, 0.4090909090909091, 'gini = 0.0\\nsamples = 1\\nvalue = [1, 0]\\nclass = NO HD'),\n",
       " Text(0.7959183673469388, 0.5909090909090909, 'thal_7.0 <= 0.5\\ngini = 0.444\\nsamples = 3\\nvalue = [2, 1]\\nclass = NO HD'),\n",
       " Text(0.7755102040816326, 0.5, 'gini = 0.0\\nsamples = 2\\nvalue = [2, 0]\\nclass = NO HD'),\n",
       " Text(0.8163265306122449, 0.5, 'gini = 0.0\\nsamples = 1\\nvalue = [0, 1]\\nclass = YES HD'),\n",
       " Text(0.8979591836734694, 0.7727272727272727, 'trestbps <= 109.0\\ngini = 0.131\\nsamples = 57\\nvalue = [4, 53]\\nclass = YES HD'),\n",
       " Text(0.8571428571428571, 0.6818181818181818, 'thalach <= 151.5\\ngini = 0.5\\nsamples = 4\\nvalue = [2, 2]\\nclass = NO HD'),\n",
       " Text(0.8367346938775511, 0.5909090909090909, 'gini = 0.0\\nsamples = 2\\nvalue = [2, 0]\\nclass = NO HD'),\n",
       " Text(0.8775510204081632, 0.5909090909090909, 'gini = 0.0\\nsamples = 2\\nvalue = [0, 2]\\nclass = YES HD'),\n",
       " Text(0.9387755102040817, 0.6818181818181818, 'age <= 63.5\\ngini = 0.073\\nsamples = 53\\nvalue = [2, 51]\\nclass = YES HD'),\n",
       " Text(0.9183673469387755, 0.5909090909090909, 'gini = 0.0\\nsamples = 43\\nvalue = [0, 43]\\nclass = YES HD'),\n",
       " Text(0.9591836734693877, 0.5909090909090909, 'restecg_2.0 <= 0.5\\ngini = 0.32\\nsamples = 10\\nvalue = [2, 8]\\nclass = YES HD'),\n",
       " Text(0.9387755102040817, 0.5, 'chol <= 258.5\\ngini = 0.444\\nsamples = 3\\nvalue = [2, 1]\\nclass = NO HD'),\n",
       " Text(0.9183673469387755, 0.4090909090909091, 'gini = 0.0\\nsamples = 1\\nvalue = [0, 1]\\nclass = YES HD'),\n",
       " Text(0.9591836734693877, 0.4090909090909091, 'gini = 0.0\\nsamples = 2\\nvalue = [2, 0]\\nclass = NO HD'),\n",
       " Text(0.9795918367346939, 0.5, 'gini = 0.0\\nsamples = 7\\nvalue = [0, 7]\\nclass = YES HD')]"
      ]
     },
     "execution_count": 16,
     "metadata": {},
     "output_type": "execute_result"
    },
    {
     "data": {
      "image/png": "[encoded data removed]",
      "text/plain": [
       "<Figure size 1080x540 with 1 Axes>"
      ]
     },
     "metadata": {
      "needs_background": "light"
     },
     "output_type": "display_data"
    }
   ],
   "source": [
    "# Plot decision tree\n",
    "plt.figure(figsize=(15,7.5))\n",
    "plot_tree(clf_dt,\n",
    "         filled=True,\n",
    "         rounded=True,\n",
    "         class_names=[\"NO HD\", \"YES HD\"],\n",
    "         feature_names=X_encoded.columns)"
   ]
  },
  {
   "cell_type": "markdown",
   "id": "0aa45ae4-cd4d-4dbf-aebe-eddb6bacf25b",
   "metadata": {},
   "source": [
    "Making Confussion matrix to evaluate the Model"
   ]
  },
  {
   "cell_type": "code",
   "execution_count": 17,
   "id": "135e6e8b-772e-44bc-ad33-6c3aa8e5347e",
   "metadata": {},
   "outputs": [
    {
     "name": "stderr",
     "output_type": "stream",
     "text": [
      "C:\\Users\\To Tali\\anaconda3\\lib\\site-packages\\sklearn\\utils\\deprecation.py:87: FutureWarning: Function plot_confusion_matrix is deprecated; Function `plot_confusion_matrix` is deprecated in 1.0 and will be removed in 1.2. Use one of the class methods: ConfusionMatrixDisplay.from_predictions or ConfusionMatrixDisplay.from_estimator.\n",
      "  warnings.warn(msg, category=FutureWarning)\n"
     ]
    },
    {
     "data": {
      "text/plain": [
       "<sklearn.metrics._plot.confusion_matrix.ConfusionMatrixDisplay at 0x1f4977358e0>"
      ]
     },
     "execution_count": 17,
     "metadata": {},
     "output_type": "execute_result"
    },
    {
     "data": {
      "image/png": "[encoded data removed]",
      "text/plain": [
       "<Figure size 432x288 with 2 Axes>"
      ]
     },
     "metadata": {
      "needs_background": "light"
     },
     "output_type": "display_data"
    }
   ],
   "source": [
    "# Confussion Matrix\n",
    "Y_pred = clf_dt.predict(X_test)\n",
    "cm_dt = confusion_matrix(y_test, Y_pred)\n",
    "plot_confusion_matrix(clf_dt, X_test, y_test, display_labels=[\"Does not have HD\", \"Has HD\"], cmap = plt.cm.Reds)"
   ]
  },
  {
   "cell_type": "code",
   "execution_count": 18,
   "id": "2f02a0be-4b4b-423e-8c15-9fcecf4f620f",
   "metadata": {},
   "outputs": [
    {
     "name": "stdout",
     "output_type": "stream",
     "text": [
      "accuracy 74.44 %\n",
      "recall 74.74 %\n",
      "specificity 74.74 %\n",
      "precision 74.56 %\n",
      "f1 74.42 %\n"
     ]
    }
   ],
   "source": [
    "# 1) accuracy\n",
    "# 2) recall\n",
    "# 3) specificity\n",
    "# 4) precision\n",
    "# 5) f1\n",
    "def metric_score_cm(conf_matrix, metric='accuracy'):\n",
    "    # x:TP, y:TN, z:FP, t:FN\n",
    "    x, y, z, t = sym.symbols('x y z t')\n",
    "    dict_metric = {'accuracy' : (x+y)/(x+y+z+t), 'recall':(x)/(x+t), 'specificity':(y)/(y+z), \\\n",
    "                'precision':(x)/(x+z), 'f1':(x)/(x+0.5*(z+t))}\n",
    "    sz_mat = conf_matrix.shape\n",
    "    vector = np.zeros((sz_mat[0], 1))\n",
    "    metric_fun = dict_metric[metric]\n",
    "    for i in range(0, sz_mat[0]):\n",
    "        TP = conf_matrix[i,i]\n",
    "        FP = np.sum(conf_matrix[0:sz_mat[0],i])-TP\n",
    "        FN = np.sum(conf_matrix[i,0:sz_mat[0]])-TP\n",
    "        TN = np.sum(conf_matrix)-TP-FP-FN\n",
    "        sc = float(metric_fun.subs([(x, TP), (y, TN), (z, FP), (t, FN)]))\n",
    "        vector[i] = sc\n",
    "    return np.average(vector), vector\n",
    "metrics = [\"accuracy\", \"recall\", \"specificity\", \"precision\", \"f1\"]\n",
    "for m in metrics:\n",
    "    output = metric_score_cm(cm_dt, metric=m)\n",
    "    print(m, round(output[0]*100, 2), '%')"
   ]
  },
  {
   "cell_type": "markdown",
   "id": "9683b13f-8c33-4e9c-9dae-918e1b334f19",
   "metadata": {},
   "source": [
    "# Cost Complexity Pruning"
   ]
  },
  {
   "cell_type": "markdown",
   "id": "b15db562-707a-4245-805f-43c03b8a09cc",
   "metadata": {},
   "source": [
    "The Decision Tree does overfitting to the data. So we use the cost complexity pruning to find the smallest tree to have accuracy to the model.\n",
    "Formula of cost_dt = ssr + alpha*Τ, ssr is the residual sum of squares, alpha the veriable for the pruning GINI(alpha [0, 1]) and Τ the ammount of leafs."
   ]
  },
  {
   "cell_type": "code",
   "execution_count": 19,
   "id": "40e94e24-e734-4945-8d86-d293e5835a57",
   "metadata": {},
   "outputs": [],
   "source": [
    "path = clf_dt.cost_complexity_pruning_path(X_train, y_train) \n",
    "ccp_alphas = path.ccp_alphas\n",
    "ccp_alphas = ccp_alphas[:-1]\n",
    "\n",
    "\n",
    "clf_dts = []\n",
    "\n",
    "for ccp_alpha in ccp_alphas:\n",
    "    clf_dt = DecisionTreeClassifier(random_state=0, ccp_alpha=ccp_alpha)\n",
    "    clf_dt = clf_dt.fit(X_train, y_train)\n",
    "    clf_dts.append(clf_dt)"
   ]
  },
  {
   "cell_type": "markdown",
   "id": "76a92c4d-a8ff-4ca1-8ab7-cff3d898680b",
   "metadata": {},
   "source": [
    "We find the accuracy of the training set and testing set depending of alpha "
   ]
  },
  {
   "cell_type": "code",
   "execution_count": 20,
   "id": "505264a3-2b1e-49c5-88d9-fff2b97d5d6f",
   "metadata": {},
   "outputs": [
    {
     "data": {
      "image/png": "[encoded data removed]",
      "text/plain": [
       "<Figure size 432x288 with 1 Axes>"
      ]
     },
     "metadata": {
      "needs_background": "light"
     },
     "output_type": "display_data"
    },
    {
     "name": "stdout",
     "output_type": "stream",
     "text": [
      "alpha:  0.022674051659558922\n",
      "Accuracy train_score:  0.7777777777777778\n",
      "Accuracy test_score:  0.7888888888888889\n"
     ]
    }
   ],
   "source": [
    "train_scores = [clf_dt.score(X_train, y_train) for clf_dt in clf_dts]\n",
    "test_scores = [clf_dt.score(X_test, y_test) for clf_dt in clf_dts]\n",
    "\n",
    "fig, ax = plt.subplots()\n",
    "ax.set_xlabel(\"alpha\")\n",
    "ax.set_ylabel(\"accuracy\")\n",
    "ax.set_title(\"Accuracy vs alpha for training and testing set\")\n",
    "ax.plot(ccp_alphas, train_scores, marker='o', label='train', drawstyle='steps-post')\n",
    "ax.plot(ccp_alphas, test_scores, marker='o', label='test', drawstyle='steps-post')\n",
    "ax.legend()\n",
    "plt.show()\n",
    "max_val = max(test_scores)\n",
    "index_max_val = test_scores.index(max_val)\n",
    "print(\"alpha: \", ccp_alphas[index_max_val])\n",
    "print(\"Accuracy train_score: \", train_scores[index_max_val])\n",
    "print(\"Accuracy test_score: \", test_scores[index_max_val])"
   ]
  },
  {
   "cell_type": "markdown",
   "id": "2505cc4b-0ad6-4abf-bada-032e952029ce",
   "metadata": {},
   "source": [
    "# Cross validation for finding the best alpha"
   ]
  },
  {
   "cell_type": "code",
   "execution_count": 21,
   "id": "82e1c8b0-ef18-4188-993b-de3f027d52f6",
   "metadata": {},
   "outputs": [
    {
     "data": {
      "text/plain": [
       "<AxesSubplot:xlabel='tree'>"
      ]
     },
     "execution_count": 21,
     "metadata": {},
     "output_type": "execute_result"
    },
    {
     "data": {
      "image/png": "[encoded data removed]",
      "text/plain": [
       "<Figure size 432x288 with 1 Axes>"
      ]
     },
     "metadata": {
      "needs_background": "light"
     },
     "output_type": "display_data"
    }
   ],
   "source": [
    "clf_dt = DecisionTreeClassifier(random_state=42, ccp_alpha=0.0227)\n",
    "## Cross Validation\n",
    "scores = cross_val_score(clf_dt, X_train, y_train, cv=5)\n",
    "df = pd.DataFrame(data={'tree':range(5), 'accuracy':scores})\n",
    "df.plot(x='tree', y='accuracy', marker='o', linestyle='--')"
   ]
  },
  {
   "cell_type": "code",
   "execution_count": 22,
   "id": "9d5fb157-4c22-43fc-8056-63d34d76b2f0",
   "metadata": {},
   "outputs": [
    {
     "data": {
      "text/plain": [
       "<AxesSubplot:xlabel='alpha'>"
      ]
     },
     "execution_count": 22,
     "metadata": {},
     "output_type": "execute_result"
    },
    {
     "data": {
      "image/png": "[encoded data removed]",
      "text/plain": [
       "<Figure size 432x288 with 1 Axes>"
      ]
     },
     "metadata": {
      "needs_background": "light"
     },
     "output_type": "display_data"
    }
   ],
   "source": [
    "alpha_loop_values = []\n",
    "for ccp_alpha in ccp_alphas:\n",
    "    clf_dt = DecisionTreeClassifier(random_state=0, ccp_alpha=ccp_alpha)\n",
    "    scores = cross_val_score(clf_dt, X_train, y_train, cv=5)\n",
    "    alpha_loop_values.append([ccp_alpha, np.mean(scores), np.std(scores)])\n",
    "\n",
    "alpha_results = pd.DataFrame(alpha_loop_values, columns = ['alpha', 'mean', 'std'])\n",
    "alpha_results.plot(x='alpha',\n",
    "                  y='mean',\n",
    "                  yerr='std',\n",
    "                  marker='o',\n",
    "                  linestyle='--')"
   ]
  },
  {
   "cell_type": "code",
   "execution_count": 23,
   "id": "0e20519f-77cb-4538-91fa-a167e2a0ce82",
   "metadata": {},
   "outputs": [
    {
     "data": {
      "text/html": [
       "<div>\n",
       "<style scoped>\n",
       "    .dataframe tbody tr th:only-of-type {\n",
       "        vertical-align: middle;\n",
       "    }\n",
       "\n",
       "    .dataframe tbody tr th {\n",
       "        vertical-align: top;\n",
       "    }\n",
       "\n",
       "    .dataframe thead th {\n",
       "        text-align: right;\n",
       "    }\n",
       "</style>\n",
       "<table border=\"1\" class=\"dataframe\">\n",
       "  <thead>\n",
       "    <tr style=\"text-align: right;\">\n",
       "      <th></th>\n",
       "      <th>alpha</th>\n",
       "      <th>mean</th>\n",
       "      <th>std</th>\n",
       "    </tr>\n",
       "  </thead>\n",
       "  <tbody>\n",
       "    <tr>\n",
       "      <th>20</th>\n",
       "      <td>0.017615</td>\n",
       "      <td>0.778049</td>\n",
       "      <td>0.094292</td>\n",
       "    </tr>\n",
       "  </tbody>\n",
       "</table>\n",
       "</div>"
      ],
      "text/plain": [
       "       alpha      mean       std\n",
       "20  0.017615  0.778049  0.094292"
      ]
     },
     "execution_count": 23,
     "metadata": {},
     "output_type": "execute_result"
    }
   ],
   "source": [
    "alpha_results[(alpha_results['alpha']>0.015)\n",
    "             &\n",
    "             (alpha_results['alpha']<0.02)]"
   ]
  },
  {
   "cell_type": "code",
   "execution_count": 24,
   "id": "7024c7ed-1ed3-47fb-ab49-22e1b68b5660",
   "metadata": {},
   "outputs": [
    {
     "data": {
      "text/plain": [
       "0.017614802561039117"
      ]
     },
     "execution_count": 24,
     "metadata": {},
     "output_type": "execute_result"
    }
   ],
   "source": [
    "ideal_alpha=alpha_results[(alpha_results['alpha']>0.015)\n",
    "             &\n",
    "             (alpha_results['alpha']<0.02)]['alpha']\n",
    "ideal_alpha = float(ideal_alpha)\n",
    "ideal_alpha"
   ]
  },
  {
   "cell_type": "markdown",
   "id": "6fd2e8d6-b1ea-4422-ac49-a447649ae917",
   "metadata": {},
   "source": [
    "# Making a new decision tree"
   ]
  },
  {
   "cell_type": "code",
   "execution_count": 25,
   "id": "ec32994b-3f0a-4a04-bae6-4993fd7ec1fe",
   "metadata": {},
   "outputs": [
    {
     "name": "stderr",
     "output_type": "stream",
     "text": [
      "C:\\Users\\To Tali\\anaconda3\\lib\\site-packages\\sklearn\\utils\\deprecation.py:87: FutureWarning: Function plot_confusion_matrix is deprecated; Function `plot_confusion_matrix` is deprecated in 1.0 and will be removed in 1.2. Use one of the class methods: ConfusionMatrixDisplay.from_predictions or ConfusionMatrixDisplay.from_estimator.\n",
      "  warnings.warn(msg, category=FutureWarning)\n"
     ]
    },
    {
     "data": {
      "text/plain": [
       "(0.7777777777777778,\n",
       " array([[0.77777778],\n",
       "        [0.77777778]]))"
      ]
     },
     "execution_count": 25,
     "metadata": {},
     "output_type": "execute_result"
    },
    {
     "data": {
      "image/png": "[encoded data removed]",
      "text/plain": [
       "<Figure size 432x288 with 2 Axes>"
      ]
     },
     "metadata": {
      "needs_background": "light"
     },
     "output_type": "display_data"
    }
   ],
   "source": [
    "# Classification decision tree\n",
    "clf_dt = DecisionTreeClassifier(random_state = 42, ccp_alpha=ideal_alpha)\n",
    "clf_dt = clf_dt.fit(X_train, y_train)\n",
    "# Confussion Matrix\n",
    "Y_pred = clf_dt.predict(X_test)\n",
    "cm_dt = confusion_matrix(y_test, Y_pred)\n",
    "plot_confusion_matrix(clf_dt, X_test, y_test, display_labels=[\"Does not have HD\", \"Has HD\"], cmap = plt.cm.Reds)\n",
    "metric_score_cm(cm_dt, metric='accuracy')"
   ]
  },
  {
   "cell_type": "code",
   "execution_count": 26,
   "id": "5242dad3-fe11-411d-a627-8e59f38edfcb",
   "metadata": {},
   "outputs": [
    {
     "data": {
      "text/plain": [
       "[Text(0.5555555555555556, 0.875, 'ca <= 0.5\\ngini = 0.497\\nsamples = 207\\nvalue = [111, 96]\\nclass = NO HD'),\n",
       " Text(0.3333333333333333, 0.625, 'thal_3.0 <= 0.5\\ngini = 0.36\\nsamples = 119\\nvalue = [91, 28]\\nclass = NO HD'),\n",
       " Text(0.2222222222222222, 0.375, 'age <= 51.5\\ngini = 0.5\\nsamples = 39\\nvalue = [19, 20]\\nclass = YES HD'),\n",
       " Text(0.1111111111111111, 0.125, 'gini = 0.346\\nsamples = 18\\nvalue = [4, 14]\\nclass = YES HD'),\n",
       " Text(0.3333333333333333, 0.125, 'gini = 0.408\\nsamples = 21\\nvalue = [15, 6]\\nclass = NO HD'),\n",
       " Text(0.4444444444444444, 0.375, 'gini = 0.18\\nsamples = 80\\nvalue = [72, 8]\\nclass = NO HD'),\n",
       " Text(0.7777777777777778, 0.625, 'cp_4.0 <= 0.5\\ngini = 0.351\\nsamples = 88\\nvalue = [20, 68]\\nclass = YES HD'),\n",
       " Text(0.6666666666666666, 0.375, 'gini = 0.499\\nsamples = 31\\nvalue = [16, 15]\\nclass = NO HD'),\n",
       " Text(0.8888888888888888, 0.375, 'gini = 0.131\\nsamples = 57\\nvalue = [4, 53]\\nclass = YES HD')]"
      ]
     },
     "execution_count": 26,
     "metadata": {},
     "output_type": "execute_result"
    },
    {
     "data": {
      "image/png": "[encoded data removed]",
      "text/plain": [
       "<Figure size 1080x540 with 1 Axes>"
      ]
     },
     "metadata": {
      "needs_background": "light"
     },
     "output_type": "display_data"
    }
   ],
   "source": [
    "# Plot decision tree\n",
    "plt.figure(figsize=(15,7.5))\n",
    "plot_tree(clf_dt,\n",
    "         filled=True,\n",
    "         rounded=True,\n",
    "         class_names=[\"NO HD\", \"YES HD\"],\n",
    "         feature_names=X_encoded.columns)"
   ]
  }
 ],
 "metadata": {
  "kernelspec": {
   "display_name": "Python 3 (ipykernel)",
   "language": "python",
   "name": "python3"
  },
  "language_info": {
   "codemirror_mode": {
    "name": "ipython",
    "version": 3
   },
   "file_extension": ".py",
   "mimetype": "text/x-python",
   "name": "python",
   "nbconvert_exporter": "python",
   "pygments_lexer": "ipython3",
   "version": "3.9.12"
  }
 },
 "nbformat": 4,
 "nbformat_minor": 5
}
