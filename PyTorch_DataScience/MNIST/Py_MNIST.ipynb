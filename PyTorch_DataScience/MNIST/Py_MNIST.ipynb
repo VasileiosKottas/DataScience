{
 "cells": [
  {
   "cell_type": "code",
   "execution_count": 2,
   "metadata": {},
   "outputs": [],
   "source": [
    "import torch\n",
    "import numpy as np\n",
    "import os\n",
    "from torch import nn\n",
    "from torch.utils.data import DataLoader\n",
    "from torchvision import datasets\n",
    "from torchvision.transforms import ToTensor"
   ]
  },
  {
   "cell_type": "code",
   "execution_count": 3,
   "metadata": {},
   "outputs": [],
   "source": [
    "# MNIST Dataset , download training\n",
    "training_data = datasets.FashionMNIST(\n",
    "    root = 'data',\n",
    "    train = True,\n",
    "    download= True,\n",
    "    transform=ToTensor(),\n",
    ")\n",
    "\n",
    "# Download test sets\n",
    "testing_data = datasets.FashionMNIST(\n",
    "    root='data',\n",
    "    train=False,\n",
    "    download=True,\n",
    "    transform=ToTensor(),\n",
    ")"
   ]
  },
  {
   "cell_type": "code",
   "execution_count": 4,
   "metadata": {},
   "outputs": [
    {
     "name": "stdout",
     "output_type": "stream",
     "text": [
      "Shape of Table N x C x H x W: torch.Size([64, 1, 28, 28])\n",
      "Shape of y: torch.Size([64]) torch.int64\n"
     ]
    }
   ],
   "source": [
    "batch_size = 64\n",
    "\n",
    "train_dataloader = DataLoader(training_data, batch_size=batch_size)\n",
    "test_dataloader = DataLoader(testing_data, batch_size=batch_size)\n",
    "\n",
    "for X,y in test_dataloader:\n",
    "    print(\"Shape of Table N x C x H x W:\",X.shape)\n",
    "    print(\"Shape of y:\",y.shape, y.dtype)\n",
    "    break"
   ]
  },
  {
   "cell_type": "code",
   "execution_count": 5,
   "metadata": {},
   "outputs": [
    {
     "name": "stdout",
     "output_type": "stream",
     "text": [
      "Using cuda device\n",
      "NeuralNetwork(\n",
      "  (flatten): Flatten(start_dim=1, end_dim=-1)\n",
      "  (linear_relu_stack): Sequential(\n",
      "    (0): Linear(in_features=784, out_features=512, bias=True)\n",
      "    (1): ReLU()\n",
      "    (2): Linear(in_features=512, out_features=512, bias=True)\n",
      "    (3): ReLU()\n",
      "    (4): Linear(in_features=512, out_features=10, bias=True)\n",
      "  )\n",
      ")\n"
     ]
    }
   ],
   "source": [
    "device = (\n",
    "    \"cuda\"\n",
    "    if torch.cuda.is_available()\n",
    "    else \"mps\"\n",
    "    if torch.backends.mps.is_available()\n",
    "    else \"cpu\"\n",
    ")\n",
    "print(f\"Using {device} device\")\n",
    "\n",
    "# Define the model\n",
    "class NeuralNetwork(nn.Module):\n",
    "    def __init__(self):\n",
    "        super().__init__()\n",
    "        self.flatten = nn.Flatten()\n",
    "        self.linear_relu_stack = nn.Sequential(\n",
    "            nn.Linear(28*28, 512),\n",
    "            nn.ReLU(),\n",
    "            nn.Linear(512, 512),\n",
    "            nn.ReLU(),\n",
    "            nn.Linear(512, 10)\n",
    "        )\n",
    "\n",
    "    def forward(self, x):\n",
    "        x = self.flatten(x)\n",
    "        logits = self.linear_relu_stack(x)\n",
    "        return logits\n",
    "\n",
    "model = NeuralNetwork().to(device)\n",
    "print(model)"
   ]
  },
  {
   "cell_type": "code",
   "execution_count": 6,
   "metadata": {},
   "outputs": [],
   "source": [
    "learning_rate = 1e-3\n",
    "batch_size = 64\n",
    "epochs = 5\n",
    " \n",
    "# Loss function\n",
    "loss_fn = nn.CrossEntropyLoss()\n",
    "optimizer = torch.optim.SGD(model.parameters(), lr=learning_rate)"
   ]
  },
  {
   "cell_type": "code",
   "execution_count": 15,
   "metadata": {},
   "outputs": [],
   "source": [
    "def train(dataloader, model, loss_fn, optimizer):\n",
    "    size = len(dataloader.dataset)\n",
    "    model.train()\n",
    "    for batch, (X,y) in enumerate(dataloader):\n",
    "        X, y = X.to(device), y.to(device)\n",
    "\n",
    "        #Compute prediction error\n",
    "        pred = model(X)\n",
    "        loss = loss_fn(pred, y)\n",
    "\n",
    "        # Backpropegation\n",
    "        loss.backward()\n",
    "        optimizer.step()\n",
    "        optimizer.zero_grad()\n",
    "\n",
    "        if batch % 100 == 0:\n",
    "            loss,current = loss.item(), batch * batch_size + len(X)\n",
    "            print(f\"loss: {loss:>7f}  [{current:>5d}/{size:>5d}]\")\n",
    " "
   ]
  },
  {
   "cell_type": "code",
   "execution_count": 16,
   "metadata": {},
   "outputs": [],
   "source": [
    "# Test the models performance to see if it is learning\n",
    "def test(dataloader, model, loss_fn):\n",
    "    \n",
    "    size = len(dataloader.dataset)\n",
    "    num_batches = len(dataloader)\n",
    "    model.eval()\n",
    "    test_loss, correct = 0,0\n",
    "    with torch.no_grad():\n",
    "        for X,y in dataloader:\n",
    "            X, y = X.to(device), y.to(device)\n",
    "            pred = model(X)\n",
    "            test_loss += loss_fn(pred, y).item()\n",
    "            correct += (pred.argmax(1) == y).type(torch.float).sum().item()\n",
    "    test_loss /= num_batches\n",
    "    correct /= size\n",
    "    print(f\"Test Error: \\n Accuracy: {(100*correct):>0.1f}%, Avg loss: {test_loss:>8f} \\n\")\n"
   ]
  },
  {
   "cell_type": "code",
   "execution_count": 17,
   "metadata": {},
   "outputs": [
    {
     "name": "stdout",
     "output_type": "stream",
     "text": [
      "Epoch 1\n",
      "\n",
      "loss: 1.165938  [   64/60000]\n",
      "loss: 1.173409  [ 6464/60000]\n",
      "loss: 1.018877  [12864/60000]\n",
      "loss: 1.147632  [19264/60000]\n",
      "loss: 1.051301  [25664/60000]\n",
      "loss: 1.077324  [32064/60000]\n",
      "loss: 1.119235  [38464/60000]\n",
      "loss: 1.078454  [44864/60000]\n",
      "loss: 1.123323  [51264/60000]\n",
      "loss: 1.060793  [57664/60000]\n",
      "Test Error: \n",
      " Accuracy: 64.8%, Avg loss: 1.091692 \n",
      "\n",
      "Epoch 2\n",
      "\n",
      "loss: 1.165938  [   64/60000]\n",
      "loss: 1.173409  [ 6464/60000]\n",
      "loss: 1.018877  [12864/60000]\n",
      "loss: 1.147632  [19264/60000]\n",
      "loss: 1.051301  [25664/60000]\n",
      "loss: 1.077324  [32064/60000]\n",
      "loss: 1.119235  [38464/60000]\n",
      "loss: 1.078454  [44864/60000]\n",
      "loss: 1.123323  [51264/60000]\n",
      "loss: 1.060793  [57664/60000]\n",
      "Test Error: \n",
      " Accuracy: 64.8%, Avg loss: 1.091692 \n",
      "\n",
      "Epoch 3\n",
      "\n",
      "loss: 1.165938  [   64/60000]\n",
      "loss: 1.173409  [ 6464/60000]\n",
      "loss: 1.018877  [12864/60000]\n",
      "loss: 1.147632  [19264/60000]\n",
      "loss: 1.051301  [25664/60000]\n",
      "loss: 1.077324  [32064/60000]\n",
      "loss: 1.119235  [38464/60000]\n",
      "loss: 1.078454  [44864/60000]\n",
      "loss: 1.123323  [51264/60000]\n",
      "loss: 1.060793  [57664/60000]\n",
      "Test Error: \n",
      " Accuracy: 64.8%, Avg loss: 1.091692 \n",
      "\n",
      "Epoch 4\n",
      "\n",
      "loss: 1.165938  [   64/60000]\n",
      "loss: 1.173409  [ 6464/60000]\n",
      "loss: 1.018877  [12864/60000]\n",
      "loss: 1.147632  [19264/60000]\n",
      "loss: 1.051301  [25664/60000]\n",
      "loss: 1.077324  [32064/60000]\n",
      "loss: 1.119235  [38464/60000]\n",
      "loss: 1.078454  [44864/60000]\n",
      "loss: 1.123323  [51264/60000]\n",
      "loss: 1.060793  [57664/60000]\n",
      "Test Error: \n",
      " Accuracy: 64.8%, Avg loss: 1.091692 \n",
      "\n",
      "Epoch 5\n",
      "\n",
      "loss: 1.165938  [   64/60000]\n",
      "loss: 1.173409  [ 6464/60000]\n",
      "loss: 1.018877  [12864/60000]\n",
      "loss: 1.147632  [19264/60000]\n",
      "loss: 1.051301  [25664/60000]\n",
      "loss: 1.077324  [32064/60000]\n",
      "loss: 1.119235  [38464/60000]\n",
      "loss: 1.078454  [44864/60000]\n",
      "loss: 1.123323  [51264/60000]\n",
      "loss: 1.060793  [57664/60000]\n",
      "Test Error: \n",
      " Accuracy: 64.8%, Avg loss: 1.091692 \n",
      "\n",
      "Epoch 6\n",
      "\n",
      "loss: 1.165938  [   64/60000]\n",
      "loss: 1.173409  [ 6464/60000]\n",
      "loss: 1.018877  [12864/60000]\n",
      "loss: 1.147632  [19264/60000]\n",
      "loss: 1.051301  [25664/60000]\n",
      "loss: 1.077324  [32064/60000]\n",
      "loss: 1.119235  [38464/60000]\n",
      "loss: 1.078454  [44864/60000]\n",
      "loss: 1.123323  [51264/60000]\n",
      "loss: 1.060793  [57664/60000]\n",
      "Test Error: \n",
      " Accuracy: 64.8%, Avg loss: 1.091692 \n",
      "\n",
      "Epoch 7\n",
      "\n",
      "loss: 1.165938  [   64/60000]\n",
      "loss: 1.173409  [ 6464/60000]\n",
      "loss: 1.018877  [12864/60000]\n",
      "loss: 1.147632  [19264/60000]\n",
      "loss: 1.051301  [25664/60000]\n",
      "loss: 1.077324  [32064/60000]\n",
      "loss: 1.119235  [38464/60000]\n",
      "loss: 1.078454  [44864/60000]\n",
      "loss: 1.123323  [51264/60000]\n",
      "loss: 1.060793  [57664/60000]\n",
      "Test Error: \n",
      " Accuracy: 64.8%, Avg loss: 1.091692 \n",
      "\n",
      "Epoch 8\n",
      "\n",
      "loss: 1.165938  [   64/60000]\n",
      "loss: 1.173409  [ 6464/60000]\n",
      "loss: 1.018877  [12864/60000]\n",
      "loss: 1.147632  [19264/60000]\n",
      "loss: 1.051301  [25664/60000]\n",
      "loss: 1.077324  [32064/60000]\n",
      "loss: 1.119235  [38464/60000]\n",
      "loss: 1.078454  [44864/60000]\n",
      "loss: 1.123323  [51264/60000]\n",
      "loss: 1.060793  [57664/60000]\n",
      "Test Error: \n",
      " Accuracy: 64.8%, Avg loss: 1.091692 \n",
      "\n",
      "Epoch 9\n",
      "\n",
      "loss: 1.165938  [   64/60000]\n",
      "loss: 1.173409  [ 6464/60000]\n",
      "loss: 1.018877  [12864/60000]\n",
      "loss: 1.147632  [19264/60000]\n",
      "loss: 1.051301  [25664/60000]\n",
      "loss: 1.077324  [32064/60000]\n",
      "loss: 1.119235  [38464/60000]\n",
      "loss: 1.078454  [44864/60000]\n",
      "loss: 1.123323  [51264/60000]\n",
      "loss: 1.060793  [57664/60000]\n",
      "Test Error: \n",
      " Accuracy: 64.8%, Avg loss: 1.091692 \n",
      "\n",
      "Epoch 10\n",
      "\n",
      "loss: 1.165938  [   64/60000]\n",
      "loss: 1.173409  [ 6464/60000]\n",
      "loss: 1.018877  [12864/60000]\n",
      "loss: 1.147632  [19264/60000]\n",
      "loss: 1.051301  [25664/60000]\n",
      "loss: 1.077324  [32064/60000]\n",
      "loss: 1.119235  [38464/60000]\n",
      "loss: 1.078454  [44864/60000]\n",
      "loss: 1.123323  [51264/60000]\n",
      "loss: 1.060793  [57664/60000]\n",
      "Test Error: \n",
      " Accuracy: 64.8%, Avg loss: 1.091692 \n",
      "\n",
      "Done!\n"
     ]
    }
   ],
   "source": [
    "epochs = 10\n",
    "for t in range(epochs):\n",
    "    print(f\"Epoch {t+1}\\n\")\n",
    "    train(train_dataloader, model, loss_fn, optimizer)\n",
    "    test(test_dataloader, model, loss_fn)\n",
    "print(\"Done!\")"
   ]
  },
  {
   "cell_type": "code",
   "execution_count": 10,
   "metadata": {},
   "outputs": [
    {
     "name": "stdout",
     "output_type": "stream",
     "text": [
      "Saved PyTorch Model State to model.pth\n"
     ]
    }
   ],
   "source": [
    "torch.save(model.state_dict(), \"model.pth\")\n",
    "print(\"Saved PyTorch Model State to model.pth\")"
   ]
  },
  {
   "cell_type": "code",
   "execution_count": 11,
   "metadata": {},
   "outputs": [
    {
     "data": {
      "text/plain": [
       "<All keys matched successfully>"
      ]
     },
     "execution_count": 11,
     "metadata": {},
     "output_type": "execute_result"
    }
   ],
   "source": [
    "model = NeuralNetwork().to(device)\n",
    "model.load_state_dict(torch.load(\"model.pth\"))"
   ]
  },
  {
   "cell_type": "code",
   "execution_count": 12,
   "metadata": {},
   "outputs": [
    {
     "name": "stdout",
     "output_type": "stream",
     "text": [
      "Predicted: \"Ankle boot\", Actual: \"Ankle boot\"\n"
     ]
    }
   ],
   "source": [
    "classes = [\n",
    "    \"T-shirt/top\",\n",
    "    \"Trouser\",\n",
    "    \"Pullover\",\n",
    "    \"Dress\",\n",
    "    \"Coat\",\n",
    "    \"Sandal\",\n",
    "    \"Shirt\",\n",
    "    \"Sneaker\",\n",
    "    \"Bag\",\n",
    "    \"Ankle boot\",\n",
    "]\n",
    "\n",
    "model.eval()\n",
    "x, y = testing_data[0][0], testing_data[0][1]\n",
    "with torch.no_grad():\n",
    "    x = x.to(device)\n",
    "    pred = model(x)\n",
    "    predicted, actual = classes[pred[0].argmax(0)], classes[y]\n",
    "    print(f'Predicted: \"{predicted}\", Actual: \"{actual}\"')"
   ]
  },
  {
   "cell_type": "code",
   "execution_count": 13,
   "metadata": {},
   "outputs": [],
   "source": [
    "import matplotlib.pyplot as plt\n",
    "import random\n"
   ]
  },
  {
   "cell_type": "code",
   "execution_count": 14,
   "metadata": {},
   "outputs": [
    {
     "data": {
      "image/png": "[encoded data removed]",
      "text/plain": [
       "<Figure size 1000x500 with 5 Axes>"
      ]
     },
     "metadata": {},
     "output_type": "display_data"
    }
   ],
   "source": [
    "# Function to predict and visualize random images from the test dataset\n",
    "def predict_random_images(model, dataset, num_images=5):\n",
    "    model.eval()\n",
    "    indices = random.sample(range(len(dataset)), num_images)\n",
    "    plt.figure(figsize=(10, 5))\n",
    "    \n",
    "    for i, idx in enumerate(indices):\n",
    "        x, y = dataset[idx][0], dataset[idx][1]\n",
    "        with torch.no_grad():\n",
    "            x = x.to(device)\n",
    "            pred = model(x.unsqueeze(0))  \n",
    "            predicted, actual = classes[pred[0].argmax(0)], classes[y]\n",
    "        \n",
    "        plt.subplot(1, num_images, i + 1)\n",
    "        plt.title(f\"Pred: {predicted}\\nActual: {actual}\")\n",
    "        plt.imshow(x.cpu().squeeze(), cmap=\"gray\")\n",
    "        plt.axis('off')\n",
    "    \n",
    "    plt.show()\n",
    "\n",
    "# Predict and visualize random images\n",
    "predict_random_images(model, testing_data, num_images=5)"
   ]
  }
 ],
 "metadata": {
  "kernelspec": {
   "display_name": "Python 3",
   "language": "python",
   "name": "python3"
  },
  "language_info": {
   "codemirror_mode": {
    "name": "ipython",
    "version": 3
   },
   "file_extension": ".py",
   "mimetype": "text/x-python",
   "name": "python",
   "nbconvert_exporter": "python",
   "pygments_lexer": "ipython3",
   "version": "3.11.9"
  }
 },
 "nbformat": 4,
 "nbformat_minor": 2
}
