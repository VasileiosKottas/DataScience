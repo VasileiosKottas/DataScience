{
 "cells": [
  {
   "cell_type": "markdown",
   "id": "2557e456",
   "metadata": {},
   "source": [
    "# K-Fold Validation with Python"
   ]
  },
  {
   "cell_type": "code",
   "execution_count": 8,
   "id": "1fe848a5-e191-4740-abc7-a39e148b2c65",
   "metadata": {},
   "outputs": [],
   "source": [
    "from sklearn.linear_model import LogisticRegression\n",
    "from sklearn.svm import SVC\n",
    "from sklearn.ensemble import RandomForestClassifier\n",
    "import numpy as np\n",
    "from sklearn.datasets import load_digits\n",
    "# Loading Data\n",
    "digits = load_digits()"
   ]
  },
  {
   "cell_type": "code",
   "execution_count": 7,
   "id": "4dd643d0-c58f-4091-99bd-431e8f098e1a",
   "metadata": {},
   "outputs": [],
   "source": [
    "# Function of finding the accuracy model\n",
    "def model_score(model, X_train, X_test, Y_train, Y_test):\n",
    "    rf.fit(X_train, Y_train)\n",
    "    return rf.score(X_test, Y_test)"
   ]
  },
  {
   "cell_type": "code",
   "execution_count": 6,
   "id": "c176e3cc-c570-44d4-9d5e-a12feb6dc211",
   "metadata": {},
   "outputs": [],
   "source": [
    "#%% Seperate the datasets to training and testing set\n",
    "from sklearn.model_selection import train_test_split\n",
    "X_train, X_test, Y_train, Y_test = train_test_split(digits.data, digits.target, test_size=0.3)"
   ]
  },
  {
   "cell_type": "code",
   "execution_count": 9,
   "id": "1f1c2453-452d-4bd8-9b55-51e9f61d6324",
   "metadata": {},
   "outputs": [
    {
     "ename": "NameError",
     "evalue": "name 'rf' is not defined",
     "output_type": "error",
     "traceback": [
      "\u001b[1;31m---------------------------------------------------------------------------\u001b[0m",
      "\u001b[1;31mNameError\u001b[0m                                 Traceback (most recent call last)",
      "Input \u001b[1;32mIn [9]\u001b[0m, in \u001b[0;36m<cell line: 3>\u001b[1;34m()\u001b[0m\n\u001b[0;32m      1\u001b[0m \u001b[38;5;66;03m# Logistic Regression Model\u001b[39;00m\n\u001b[0;32m      2\u001b[0m lr \u001b[38;5;241m=\u001b[39m LogisticRegression()\n\u001b[1;32m----> 3\u001b[0m score \u001b[38;5;241m=\u001b[39m \u001b[43mmodel_score\u001b[49m\u001b[43m(\u001b[49m\u001b[43mlr\u001b[49m\u001b[43m,\u001b[49m\u001b[43m \u001b[49m\u001b[43mX_train\u001b[49m\u001b[43m,\u001b[49m\u001b[43m \u001b[49m\u001b[43mX_test\u001b[49m\u001b[43m,\u001b[49m\u001b[43m \u001b[49m\u001b[43mY_train\u001b[49m\u001b[43m,\u001b[49m\u001b[43m \u001b[49m\u001b[43mY_test\u001b[49m\u001b[43m)\u001b[49m\n\u001b[0;32m      4\u001b[0m \u001b[38;5;28mprint\u001b[39m(\u001b[38;5;124m\"\u001b[39m\u001b[38;5;124mLogistic Regression Model: \u001b[39m\u001b[38;5;124m\"\u001b[39m  \u001b[38;5;241m+\u001b[39m \u001b[38;5;28mstr\u001b[39m(score))\n\u001b[0;32m      5\u001b[0m \u001b[38;5;66;03m# SVM model\u001b[39;00m\n",
      "Input \u001b[1;32mIn [7]\u001b[0m, in \u001b[0;36mmodel_score\u001b[1;34m(model, X_train, X_test, Y_train, Y_test)\u001b[0m\n\u001b[0;32m      2\u001b[0m \u001b[38;5;28;01mdef\u001b[39;00m \u001b[38;5;21mmodel_score\u001b[39m(model, X_train, X_test, Y_train, Y_test):\n\u001b[1;32m----> 3\u001b[0m     \u001b[43mrf\u001b[49m\u001b[38;5;241m.\u001b[39mfit(X_train, Y_train)\n\u001b[0;32m      4\u001b[0m     \u001b[38;5;28;01mreturn\u001b[39;00m rf\u001b[38;5;241m.\u001b[39mscore(X_test, Y_test)\n",
      "\u001b[1;31mNameError\u001b[0m: name 'rf' is not defined"
     ]
    }
   ],
   "source": [
    "# Logistic Regression Model\n",
    "lr = LogisticRegression()\n",
    "score = model_score(lr, X_train, X_test, Y_train, Y_test)\n",
    "print(\"Logistic Regression Model: \"  + str(score))\n",
    "# SVM model\n",
    "svm = SVC()\n",
    "score = model_score(svm, X_train, X_test, Y_train, Y_test)\n",
    "print(\"SVM model: \" + str(score))\n",
    "# Random Forest Model\n",
    "rf = RandomForestClassifier()\n",
    "score = model_score(rf, X_train, X_test, Y_train, Y_test)\n",
    "print(\"Random Forest Model: \" + str(score))"
   ]
  },
  {
   "cell_type": "code",
   "execution_count": 29,
   "id": "c1d2b9d9-6e78-4222-ad5b-dd9367c35ff6",
   "metadata": {},
   "outputs": [
    {
     "name": "stdout",
     "output_type": "stream",
     "text": [
      "Mean Score Logistic Regression Model: 0.9343233219844358\n",
      "Mean Score SVM model: 0.9398884797109505\n",
      "Mean Score Random Forest Model: 0.934877015008338\n"
     ]
    }
   ],
   "source": [
    "#%% K-Fold Cross Validation \n",
    "from sklearn.model_selection import KFold\n",
    "from statistics import mean\n",
    "kf = KFold(n_splits=7)\n",
    "score_lr = []\n",
    "score_SVM = []\n",
    "score_rf =[]\n",
    "# Cross Validation\n",
    "for train_index, test_index in kf.split(digits.data):\n",
    "    X_train, X_test, Y_train, Y_test = digits.data[train_index], digits.data[test_index], \\\n",
    "                                        digits.target[train_index], digits.target[test_index]\n",
    "    score_lr.append(model_score(LogisticRegression(), X_train, X_test, Y_train, Y_test))\n",
    "    score_SVM.append(model_score(SVC(), X_train, X_test, Y_train, Y_test))\n",
    "    score_rf.append(model_score(RandomForestClassifier(), X_train, X_test, Y_train, Y_test))\n",
    "# Mean Score\n",
    "print(\"Mean Score Logistic Regression Model: \" + str(mean(score_lr)))\n",
    "print(\"Mean Score SVM model: \" + str(mean(score_SVM)))\n",
    "print(\"Mean Score Random Forest Model: \" + str(mean(score_rf)))"
   ]
  },
  {
   "cell_type": "code",
   "execution_count": 18,
   "id": "f546de8a-657f-48d8-8e8f-e46dc1c269b4",
   "metadata": {},
   "outputs": [
    {
     "name": "stdout",
     "output_type": "stream",
     "text": [
      "[3 4 5 6 7 8] [0 1 2]\n",
      "[0 1 2 6 7 8] [3 4 5]\n",
      "[0 1 2 3 4 5] [6 7 8]\n"
     ]
    }
   ],
   "source": [
    "# Example K_Fold\n",
    "for train_data, test_data in kf.split([1,2,3,4,5,6,7,8,9]):\n",
    "    print(train_data, test_data)"
   ]
  },
  {
   "cell_type": "code",
   "execution_count": 3,
   "id": "c23ec507-28f8-4b39-9cea-6dacb759e37c",
   "metadata": {},
   "outputs": [
    {
     "name": "stdout",
     "output_type": "stream",
     "text": [
      "Mean Score SVM model:  [0.96494157 0.97996661 0.96494157]\n",
      "Mean Score Random Forest Model:  [0.93322204 0.95993322 0.92153589]\n"
     ]
    }
   ],
   "source": [
    "#%%score cross_val_score\n",
    "from sklearn.model_selection import cross_val_score\n",
    "#print(\"Mean Score Logistic Regression Model: \", cross_val_score(LogisticRegression(), digits.data, digits.target, cv=3))\n",
    "print(\"Mean Score SVM model: \", cross_val_score(SVC(), digits.data, digits.target, cv=3))\n",
    "print(\"Mean Score Random Forest Model: \", cross_val_score(RandomForestClassifier(), digits.data, digits.target, cv=3))"
   ]
  },
  {
   "cell_type": "code",
   "execution_count": null,
   "id": "afc87bdb-6ee6-49bc-b451-a711af0023fc",
   "metadata": {},
   "outputs": [],
   "source": []
  }
 ],
 "metadata": {
  "kernelspec": {
   "display_name": "Python 3 (ipykernel)",
   "language": "python",
   "name": "python3"
  },
  "language_info": {
   "codemirror_mode": {
    "name": "ipython",
    "version": 3
   },
   "file_extension": ".py",
   "mimetype": "text/x-python",
   "name": "python",
   "nbconvert_exporter": "python",
   "pygments_lexer": "ipython3",
   "version": "3.9.12"
  }
 },
 "nbformat": 4,
 "nbformat_minor": 5
}
