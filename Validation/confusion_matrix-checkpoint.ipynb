{
 "cells": [
  {
   "cell_type": "markdown",
   "id": "3a39c5d1-77ae-419e-aad7-0d1f0ee6f1a0",
   "metadata": {},
   "source": [
    "# Confusion Matrix for applying metrics for evaluating the model of categorization"
   ]
  },
  {
   "cell_type": "code",
   "execution_count": 4,
   "id": "90dc5aae-cb94-408a-9c70-414acf82c179",
   "metadata": {},
   "outputs": [],
   "source": [
    "import pandas as p\n",
    "import matplotlib.pyplot as plt\n",
    "import numpy as np\n",
    "import sympy as sym\n",
    "from sklearn.datasets import load_digits\n",
    "# Loading Data\n",
    "digits = load_digits()"
   ]
  },
  {
   "cell_type": "code",
   "execution_count": 5,
   "id": "a5023034-bf5d-45be-925f-727baba8655e",
   "metadata": {},
   "outputs": [],
   "source": [
    "# The function of finding the accuracy of the model\n",
    "def model_score(model, X_train, X_test, Y_train, Y_test):\n",
    "    model.fit(X_train, Y_train)\n",
    "    return model.score(X_test, Y_test)"
   ]
  },
  {
   "cell_type": "code",
   "execution_count": 6,
   "id": "7838e1a8-e6e3-481f-8c50-4eeba367350c",
   "metadata": {},
   "outputs": [],
   "source": [
    "#%% Seperating the data sets to training and testing set\n",
    "from sklearn.model_selection import train_test_split\n",
    "X_train, X_test, Y_train, Y_test = train_test_split(digits.data, digits.target, test_size=0.2)"
   ]
  },
  {
   "cell_type": "code",
   "execution_count": 7,
   "id": "af0154f7-2060-4b44-98d8-1fda4b3da994",
   "metadata": {},
   "outputs": [
    {
     "name": "stdout",
     "output_type": "stream",
     "text": [
      "K-nearest neighboor Model: 0.9972222222222222\n"
     ]
    }
   ],
   "source": [
    "from sklearn.neighbors import KNeighborsClassifier\n",
    "Kn = KNeighborsClassifier()\n",
    "score = model_score(Kn, X_train, X_test, Y_train, Y_test)\n",
    "print(\"K-nearest neighboor Model: \"  + str(score))\n",
    "Kn_prediction = Kn.predict(X_test)"
   ]
  },
  {
   "cell_type": "code",
   "execution_count": 8,
   "id": "f031fdda-f751-4b25-845e-56f1c4e643ea",
   "metadata": {},
   "outputs": [],
   "source": [
    "#%% Calculate Confusion matrix\n",
    "from sklearn.metrics import confusion_matrix\n",
    "conf_matrix = confusion_matrix(Y_test, Kn_prediction)"
   ]
  },
  {
   "cell_type": "code",
   "execution_count": 9,
   "id": "99091e54-380c-488f-aa6e-6897d26499d2",
   "metadata": {},
   "outputs": [
    {
     "name": "stderr",
     "output_type": "stream",
     "text": [
      "C:\\Users\\To Tali\\anaconda3\\lib\\site-packages\\sklearn\\utils\\deprecation.py:87: FutureWarning: Function plot_confusion_matrix is deprecated; Function `plot_confusion_matrix` is deprecated in 1.0 and will be removed in 1.2. Use one of the class methods: ConfusionMatrixDisplay.from_predictions or ConfusionMatrixDisplay.from_estimator.\n",
      "  warnings.warn(msg, category=FutureWarning)\n"
     ]
    },
    {
     "data": {
      "image/png": "[encoded data removed]",
      "text/plain": [
       "<Figure size 432x288 with 2 Axes>"
      ]
     },
     "metadata": {
      "needs_background": "light"
     },
     "output_type": "display_data"
    }
   ],
   "source": [
    "#%% Presenting the Confusion matrix\n",
    "from sklearn.metrics import plot_confusion_matrix\n",
    "matrix = plot_confusion_matrix(Kn, X_test, Y_test, cmap = plt.cm.Reds)\n",
    "matrix.ax_.set_title(\"Confusion Matrix\", color = 'black')\n",
    "plt.xlabel(\"Prediction\", color = 'black')\n",
    "plt.ylabel(\"Actual\", color = 'black')\n",
    "plt.show()"
   ]
  },
  {
   "cell_type": "code",
   "execution_count": 10,
   "id": "a79f7a5e-d544-4fcc-9164-2b281df3dd27",
   "metadata": {},
   "outputs": [],
   "source": [
    "#%% Function of finding the metrices\n",
    "# 1) accuracy\n",
    "# 2) recall\n",
    "# 3) specificity\n",
    "# 4) precision\n",
    "# 5) f1\n",
    "def metric_score_cm(conf_matrix, metric='accuracy'):\n",
    "    # x:TP, y:TN, z:FP, t:FN\n",
    "    x, y, z, t = sym.symbols('x y z t')\n",
    "    dict_metric = {'accuracy' : (x+y)/(x+y+z+t), 'recall':(x)/(x+t), 'specificity':(y)/(y+z), \\\n",
    "                'precision':(x)/(x+z), 'f1':(x)/(x+0.5*(z+t))}\n",
    "    sz_mat = conf_matrix.shape\n",
    "    vector = np.zeros((sz_mat[0], 1))\n",
    "    metric_fun = dict_metric[metric]\n",
    "    for i in range(0, sz_mat[0]):\n",
    "        TP = conf_matrix[i,i]\n",
    "        FP = np.sum(conf_matrix[0:sz_mat[0],i])-TP\n",
    "        FN = np.sum(conf_matrix[i,0:sz_mat[0]])-TP\n",
    "        TN = np.sum(conf_matrix)-TP-FP-FN\n",
    "        sc = float(metric_fun.subs([(x, TP), (y, TN), (z, FP), (t, FN)]))\n",
    "        vector[i] = sc\n",
    "    return np.average(vector), vector"
   ]
  },
  {
   "cell_type": "code",
   "execution_count": 11,
   "id": "7ac445ea-3fda-492e-8fe3-3ce67b5727fa",
   "metadata": {},
   "outputs": [
    {
     "data": {
      "text/plain": [
       "(0.9994444444444444,\n",
       " array([[1.        ],\n",
       "        [1.        ],\n",
       "        [1.        ],\n",
       "        [1.        ],\n",
       "        [1.        ],\n",
       "        [1.        ],\n",
       "        [1.        ],\n",
       "        [1.        ],\n",
       "        [0.99722222],\n",
       "        [0.99722222]]))"
      ]
     },
     "execution_count": 11,
     "metadata": {},
     "output_type": "execute_result"
    }
   ],
   "source": [
    "metric_score_cm(conf_matrix)"
   ]
  },
  {
   "cell_type": "code",
   "execution_count": null,
   "id": "18b01e09",
   "metadata": {},
   "outputs": [],
   "source": []
  }
 ],
 "metadata": {
  "kernelspec": {
   "display_name": "Python 3 (ipykernel)",
   "language": "python",
   "name": "python3"
  },
  "language_info": {
   "codemirror_mode": {
    "name": "ipython",
    "version": 3
   },
   "file_extension": ".py",
   "mimetype": "text/x-python",
   "name": "python",
   "nbconvert_exporter": "python",
   "pygments_lexer": "ipython3",
   "version": "3.9.12"
  },
  "toc-autonumbering": false,
  "toc-showmarkdowntxt": false
 },
 "nbformat": 4,
 "nbformat_minor": 5
}
